{
  "cells": [
    {
      "cell_type": "code",
      "execution_count": 1,
      "metadata": {
        "colab": {
          "base_uri": "https://localhost:8080/"
        },
        "id": "sILeM_54ipMw",
        "outputId": "12d1d7c2-f775-4f18-cd16-263294510bce"
      },
      "outputs": [],
      "source": [
        "# # ! pip install -q kaggle\n",
        "# # ! mkdir ~/.kaggle\n",
        "# # ! cp kaggle.json ~/.kaggle/\n",
        "# # ! chmod 600 ~/.kaggle/kaggle.json\n",
        "# # # ! kaggle datasets list\n",
        "# # ! kaggle competitions download -c 'lmsys-chatbot-arena'\n",
        "# !unzip \"/content/lmsys-chatbot-arena.zip\" -d \"/content/data\""
      ]
    },
    {
      "cell_type": "code",
      "execution_count": 2,
      "metadata": {},
      "outputs": [
        {
          "name": "stdout",
          "output_type": "stream",
          "text": [
            "Requirement already satisfied: gdown in /opt/anaconda3/lib/python3.11/site-packages (5.2.0)\n",
            "Requirement already satisfied: beautifulsoup4 in /opt/anaconda3/lib/python3.11/site-packages (from gdown) (4.12.2)\n",
            "Requirement already satisfied: filelock in /opt/anaconda3/lib/python3.11/site-packages (from gdown) (3.13.1)\n",
            "Requirement already satisfied: requests[socks] in /opt/anaconda3/lib/python3.11/site-packages (from gdown) (2.31.0)\n",
            "Requirement already satisfied: tqdm in /opt/anaconda3/lib/python3.11/site-packages (from gdown) (4.65.0)\n",
            "Requirement already satisfied: soupsieve>1.2 in /opt/anaconda3/lib/python3.11/site-packages (from beautifulsoup4->gdown) (2.5)\n",
            "Requirement already satisfied: charset-normalizer<4,>=2 in /opt/anaconda3/lib/python3.11/site-packages (from requests[socks]->gdown) (2.0.4)\n",
            "Requirement already satisfied: idna<4,>=2.5 in /opt/anaconda3/lib/python3.11/site-packages (from requests[socks]->gdown) (2.10)\n",
            "Requirement already satisfied: urllib3<3,>=1.21.1 in /opt/anaconda3/lib/python3.11/site-packages (from requests[socks]->gdown) (2.0.7)\n",
            "Requirement already satisfied: certifi>=2017.4.17 in /opt/anaconda3/lib/python3.11/site-packages (from requests[socks]->gdown) (2024.6.2)\n",
            "Requirement already satisfied: PySocks!=1.5.7,>=1.5.6 in /opt/anaconda3/lib/python3.11/site-packages (from requests[socks]->gdown) (1.7.1)\n"
          ]
        }
      ],
      "source": [
        "!pip install gdown"
      ]
    },
    {
      "cell_type": "code",
      "execution_count": 3,
      "metadata": {},
      "outputs": [
        {
          "name": "stdout",
          "output_type": "stream",
          "text": [
            "/opt/anaconda3/lib/python3.11/site-packages/gdown/__main__.py:140: FutureWarning: Option `--id` was deprecated in version 4.3.1 and will be removed in 5.0. You don't need to pass it anymore to use a file ID.\n",
            "  warnings.warn(\n",
            "Downloading...\n",
            "From (original): https://drive.google.com/uc?id=1TJ8QSuM2P9_U744IBKU9wiJm-oawmePt\n",
            "From (redirected): https://drive.google.com/uc?id=1TJ8QSuM2P9_U744IBKU9wiJm-oawmePt&confirm=t&uuid=2b34916f-e5ff-484d-a455-2acce85aa14c\n",
            "To: /Users/morsy/Documents/DEBI/Masters/IS and DS/Project/train.csv\n",
            "100%|████████████████████████████████████████| 184M/184M [00:54<00:00, 3.37MB/s]\n"
          ]
        }
      ],
      "source": [
        "!gdown --id 1TJ8QSuM2P9_U744IBKU9wiJm-oawmePt"
      ]
    },
    {
      "cell_type": "code",
      "execution_count": 4,
      "metadata": {},
      "outputs": [
        {
          "name": "stdout",
          "output_type": "stream",
          "text": [
            "/opt/anaconda3/lib/python3.11/site-packages/gdown/__main__.py:140: FutureWarning: Option `--id` was deprecated in version 4.3.1 and will be removed in 5.0. You don't need to pass it anymore to use a file ID.\n",
            "  warnings.warn(\n",
            "Downloading...\n",
            "From: https://drive.google.com/uc?id=1w-7A76SxqhgGlEMOOhTlDSoGSSeui5fI\n",
            "To: /Users/morsy/Documents/DEBI/Masters/IS and DS/Project/test.csv\n",
            "100%|██████████████████████████████████████| 10.7k/10.7k [00:00<00:00, 13.5MB/s]\n"
          ]
        }
      ],
      "source": [
        "!gdown --id 1w-7A76SxqhgGlEMOOhTlDSoGSSeui5fI\n"
      ]
    },
    {
      "cell_type": "code",
      "execution_count": 5,
      "metadata": {
        "colab": {
          "base_uri": "https://localhost:8080/"
        },
        "id": "lRsITJuGb1ML",
        "outputId": "7364a2ac-3442-4161-f687-1bd7dec9a6e9"
      },
      "outputs": [
        {
          "name": "stdout",
          "output_type": "stream",
          "text": [
            "Requirement already satisfied: textatistic in /opt/anaconda3/lib/python3.11/site-packages (0.0.1)\n",
            "Requirement already satisfied: pyhyphen>=2.0.5 in /opt/anaconda3/lib/python3.11/site-packages (from textatistic) (4.0.4)\n",
            "Requirement already satisfied: wheel>=0.40.0 in /opt/anaconda3/lib/python3.11/site-packages (from pyhyphen>=2.0.5->textatistic) (0.41.2)\n",
            "Requirement already satisfied: setuptools>=68.0 in /opt/anaconda3/lib/python3.11/site-packages (from pyhyphen>=2.0.5->textatistic) (68.2.2)\n",
            "Requirement already satisfied: appdirs>=1.4.0 in /opt/anaconda3/lib/python3.11/site-packages (from pyhyphen>=2.0.5->textatistic) (1.4.4)\n",
            "Requirement already satisfied: requests>=2.25 in /opt/anaconda3/lib/python3.11/site-packages (from pyhyphen>=2.0.5->textatistic) (2.31.0)\n",
            "Requirement already satisfied: charset-normalizer<4,>=2 in /opt/anaconda3/lib/python3.11/site-packages (from requests>=2.25->pyhyphen>=2.0.5->textatistic) (2.0.4)\n",
            "Requirement already satisfied: idna<4,>=2.5 in /opt/anaconda3/lib/python3.11/site-packages (from requests>=2.25->pyhyphen>=2.0.5->textatistic) (2.10)\n",
            "Requirement already satisfied: urllib3<3,>=1.21.1 in /opt/anaconda3/lib/python3.11/site-packages (from requests>=2.25->pyhyphen>=2.0.5->textatistic) (2.0.7)\n",
            "Requirement already satisfied: certifi>=2017.4.17 in /opt/anaconda3/lib/python3.11/site-packages (from requests>=2.25->pyhyphen>=2.0.5->textatistic) (2024.6.2)\n"
          ]
        }
      ],
      "source": [
        "!pip install textatistic"
      ]
    },
    {
      "cell_type": "code",
      "execution_count": 6,
      "metadata": {},
      "outputs": [
        {
          "name": "stdout",
          "output_type": "stream",
          "text": [
            "Requirement already satisfied: textblob in /opt/anaconda3/lib/python3.11/site-packages (0.18.0.post0)\n",
            "Requirement already satisfied: nltk>=3.8 in /opt/anaconda3/lib/python3.11/site-packages (from textblob) (3.8.1)\n",
            "Requirement already satisfied: click in /opt/anaconda3/lib/python3.11/site-packages (from nltk>=3.8->textblob) (8.1.7)\n",
            "Requirement already satisfied: joblib in /opt/anaconda3/lib/python3.11/site-packages (from nltk>=3.8->textblob) (1.2.0)\n",
            "Requirement already satisfied: regex>=2021.8.3 in /opt/anaconda3/lib/python3.11/site-packages (from nltk>=3.8->textblob) (2023.10.3)\n",
            "Requirement already satisfied: tqdm in /opt/anaconda3/lib/python3.11/site-packages (from nltk>=3.8->textblob) (4.65.0)\n",
            "Requirement already satisfied: textatistic in /opt/anaconda3/lib/python3.11/site-packages (0.0.1)\n",
            "Requirement already satisfied: pyhyphen>=2.0.5 in /opt/anaconda3/lib/python3.11/site-packages (from textatistic) (4.0.4)\n",
            "Requirement already satisfied: wheel>=0.40.0 in /opt/anaconda3/lib/python3.11/site-packages (from pyhyphen>=2.0.5->textatistic) (0.41.2)\n",
            "Requirement already satisfied: setuptools>=68.0 in /opt/anaconda3/lib/python3.11/site-packages (from pyhyphen>=2.0.5->textatistic) (68.2.2)\n",
            "Requirement already satisfied: appdirs>=1.4.0 in /opt/anaconda3/lib/python3.11/site-packages (from pyhyphen>=2.0.5->textatistic) (1.4.4)\n",
            "Requirement already satisfied: requests>=2.25 in /opt/anaconda3/lib/python3.11/site-packages (from pyhyphen>=2.0.5->textatistic) (2.31.0)\n",
            "Requirement already satisfied: charset-normalizer<4,>=2 in /opt/anaconda3/lib/python3.11/site-packages (from requests>=2.25->pyhyphen>=2.0.5->textatistic) (2.0.4)\n",
            "Requirement already satisfied: idna<4,>=2.5 in /opt/anaconda3/lib/python3.11/site-packages (from requests>=2.25->pyhyphen>=2.0.5->textatistic) (2.10)\n",
            "Requirement already satisfied: urllib3<3,>=1.21.1 in /opt/anaconda3/lib/python3.11/site-packages (from requests>=2.25->pyhyphen>=2.0.5->textatistic) (2.0.7)\n",
            "Requirement already satisfied: certifi>=2017.4.17 in /opt/anaconda3/lib/python3.11/site-packages (from requests>=2.25->pyhyphen>=2.0.5->textatistic) (2024.6.2)\n",
            "Requirement already satisfied: spacy in /opt/anaconda3/lib/python3.11/site-packages (3.7.5)\n",
            "Requirement already satisfied: spacy-legacy<3.1.0,>=3.0.11 in /opt/anaconda3/lib/python3.11/site-packages (from spacy) (3.0.12)\n",
            "Requirement already satisfied: spacy-loggers<2.0.0,>=1.0.0 in /opt/anaconda3/lib/python3.11/site-packages (from spacy) (1.0.5)\n",
            "Requirement already satisfied: murmurhash<1.1.0,>=0.28.0 in /opt/anaconda3/lib/python3.11/site-packages (from spacy) (1.0.10)\n",
            "Requirement already satisfied: cymem<2.1.0,>=2.0.2 in /opt/anaconda3/lib/python3.11/site-packages (from spacy) (2.0.8)\n",
            "Requirement already satisfied: preshed<3.1.0,>=3.0.2 in /opt/anaconda3/lib/python3.11/site-packages (from spacy) (3.0.9)\n",
            "Requirement already satisfied: thinc<8.3.0,>=8.2.2 in /opt/anaconda3/lib/python3.11/site-packages (from spacy) (8.2.5)\n",
            "Requirement already satisfied: wasabi<1.2.0,>=0.9.1 in /opt/anaconda3/lib/python3.11/site-packages (from spacy) (1.1.3)\n",
            "Requirement already satisfied: srsly<3.0.0,>=2.4.3 in /opt/anaconda3/lib/python3.11/site-packages (from spacy) (2.4.8)\n",
            "Requirement already satisfied: catalogue<2.1.0,>=2.0.6 in /opt/anaconda3/lib/python3.11/site-packages (from spacy) (2.0.10)\n",
            "Requirement already satisfied: weasel<0.5.0,>=0.1.0 in /opt/anaconda3/lib/python3.11/site-packages (from spacy) (0.4.1)\n",
            "Requirement already satisfied: typer<1.0.0,>=0.3.0 in /opt/anaconda3/lib/python3.11/site-packages (from spacy) (0.12.3)\n",
            "Requirement already satisfied: tqdm<5.0.0,>=4.38.0 in /opt/anaconda3/lib/python3.11/site-packages (from spacy) (4.65.0)\n",
            "Requirement already satisfied: requests<3.0.0,>=2.13.0 in /opt/anaconda3/lib/python3.11/site-packages (from spacy) (2.31.0)\n",
            "Requirement already satisfied: pydantic!=1.8,!=1.8.1,<3.0.0,>=1.7.4 in /opt/anaconda3/lib/python3.11/site-packages (from spacy) (1.10.12)\n",
            "Requirement already satisfied: jinja2 in /opt/anaconda3/lib/python3.11/site-packages (from spacy) (3.1.3)\n",
            "Requirement already satisfied: setuptools in /opt/anaconda3/lib/python3.11/site-packages (from spacy) (68.2.2)\n",
            "Requirement already satisfied: packaging>=20.0 in /opt/anaconda3/lib/python3.11/site-packages (from spacy) (23.1)\n",
            "Requirement already satisfied: langcodes<4.0.0,>=3.2.0 in /opt/anaconda3/lib/python3.11/site-packages (from spacy) (3.4.0)\n",
            "Requirement already satisfied: numpy>=1.19.0 in /opt/anaconda3/lib/python3.11/site-packages (from spacy) (1.26.4)\n",
            "Requirement already satisfied: language-data>=1.2 in /opt/anaconda3/lib/python3.11/site-packages (from langcodes<4.0.0,>=3.2.0->spacy) (1.2.0)\n",
            "Requirement already satisfied: typing-extensions>=4.2.0 in /opt/anaconda3/lib/python3.11/site-packages (from pydantic!=1.8,!=1.8.1,<3.0.0,>=1.7.4->spacy) (4.9.0)\n",
            "Requirement already satisfied: charset-normalizer<4,>=2 in /opt/anaconda3/lib/python3.11/site-packages (from requests<3.0.0,>=2.13.0->spacy) (2.0.4)\n",
            "Requirement already satisfied: idna<4,>=2.5 in /opt/anaconda3/lib/python3.11/site-packages (from requests<3.0.0,>=2.13.0->spacy) (2.10)\n",
            "Requirement already satisfied: urllib3<3,>=1.21.1 in /opt/anaconda3/lib/python3.11/site-packages (from requests<3.0.0,>=2.13.0->spacy) (2.0.7)\n",
            "Requirement already satisfied: certifi>=2017.4.17 in /opt/anaconda3/lib/python3.11/site-packages (from requests<3.0.0,>=2.13.0->spacy) (2024.6.2)\n",
            "Requirement already satisfied: blis<0.8.0,>=0.7.8 in /opt/anaconda3/lib/python3.11/site-packages (from thinc<8.3.0,>=8.2.2->spacy) (0.7.11)\n",
            "Requirement already satisfied: confection<1.0.0,>=0.0.1 in /opt/anaconda3/lib/python3.11/site-packages (from thinc<8.3.0,>=8.2.2->spacy) (0.1.5)\n",
            "Requirement already satisfied: click>=8.0.0 in /opt/anaconda3/lib/python3.11/site-packages (from typer<1.0.0,>=0.3.0->spacy) (8.1.7)\n",
            "Requirement already satisfied: shellingham>=1.3.0 in /opt/anaconda3/lib/python3.11/site-packages (from typer<1.0.0,>=0.3.0->spacy) (1.5.4)\n",
            "Requirement already satisfied: rich>=10.11.0 in /opt/anaconda3/lib/python3.11/site-packages (from typer<1.0.0,>=0.3.0->spacy) (13.3.5)\n",
            "Requirement already satisfied: cloudpathlib<1.0.0,>=0.7.0 in /opt/anaconda3/lib/python3.11/site-packages (from weasel<0.5.0,>=0.1.0->spacy) (0.18.1)\n",
            "Requirement already satisfied: smart-open<8.0.0,>=5.2.1 in /opt/anaconda3/lib/python3.11/site-packages (from weasel<0.5.0,>=0.1.0->spacy) (5.2.1)\n",
            "Requirement already satisfied: MarkupSafe>=2.0 in /opt/anaconda3/lib/python3.11/site-packages (from jinja2->spacy) (2.1.3)\n",
            "Requirement already satisfied: marisa-trie>=0.7.7 in /opt/anaconda3/lib/python3.11/site-packages (from language-data>=1.2->langcodes<4.0.0,>=3.2.0->spacy) (1.2.0)\n",
            "Requirement already satisfied: markdown-it-py<3.0.0,>=2.2.0 in /opt/anaconda3/lib/python3.11/site-packages (from rich>=10.11.0->typer<1.0.0,>=0.3.0->spacy) (2.2.0)\n",
            "Requirement already satisfied: pygments<3.0.0,>=2.13.0 in /opt/anaconda3/lib/python3.11/site-packages (from rich>=10.11.0->typer<1.0.0,>=0.3.0->spacy) (2.15.1)\n",
            "Requirement already satisfied: mdurl~=0.1 in /opt/anaconda3/lib/python3.11/site-packages (from markdown-it-py<3.0.0,>=2.2.0->rich>=10.11.0->typer<1.0.0,>=0.3.0->spacy) (0.1.0)\n"
          ]
        }
      ],
      "source": [
        "!pip install textblob \n",
        "!pip install textatistic\n",
        "!pip install spacy"
      ]
    },
    {
      "cell_type": "code",
      "execution_count": null,
      "metadata": {},
      "outputs": [],
      "source": []
    },
    {
      "cell_type": "code",
      "execution_count": 7,
      "metadata": {
        "id": "PvkGVglta-ti"
      },
      "outputs": [],
      "source": [
        "# import os\n",
        "# from google.colab import drive\n",
        "\n",
        "import pandas as pd\n",
        "\n",
        "import nltk\n",
        "from textblob import TextBlob\n",
        "from textatistic import Textatistic\n",
        "from nltk.tokenize import word_tokenize\n",
        "import spacy\n",
        "\n",
        "import json"
      ]
    },
    {
      "cell_type": "code",
      "execution_count": 8,
      "metadata": {},
      "outputs": [
        {
          "name": "stdout",
          "output_type": "stream",
          "text": [
            "Collecting en-core-web-sm==3.7.1\n",
            "  Downloading https://github.com/explosion/spacy-models/releases/download/en_core_web_sm-3.7.1/en_core_web_sm-3.7.1-py3-none-any.whl (12.8 MB)\n",
            "\u001b[2K     \u001b[90m━━━━━━━━━━━━━━━━━━━━━━━━━━━━━━━━━━━━━━━━\u001b[0m \u001b[32m12.8/12.8 MB\u001b[0m \u001b[31m3.6 MB/s\u001b[0m eta \u001b[36m0:00:00\u001b[0m00:01\u001b[0m00:01\u001b[0mm\n",
            "\u001b[?25hRequirement already satisfied: spacy<3.8.0,>=3.7.2 in /opt/anaconda3/lib/python3.11/site-packages (from en-core-web-sm==3.7.1) (3.7.5)\n",
            "Requirement already satisfied: spacy-legacy<3.1.0,>=3.0.11 in /opt/anaconda3/lib/python3.11/site-packages (from spacy<3.8.0,>=3.7.2->en-core-web-sm==3.7.1) (3.0.12)\n",
            "Requirement already satisfied: spacy-loggers<2.0.0,>=1.0.0 in /opt/anaconda3/lib/python3.11/site-packages (from spacy<3.8.0,>=3.7.2->en-core-web-sm==3.7.1) (1.0.5)\n",
            "Requirement already satisfied: murmurhash<1.1.0,>=0.28.0 in /opt/anaconda3/lib/python3.11/site-packages (from spacy<3.8.0,>=3.7.2->en-core-web-sm==3.7.1) (1.0.10)\n",
            "Requirement already satisfied: cymem<2.1.0,>=2.0.2 in /opt/anaconda3/lib/python3.11/site-packages (from spacy<3.8.0,>=3.7.2->en-core-web-sm==3.7.1) (2.0.8)\n",
            "Requirement already satisfied: preshed<3.1.0,>=3.0.2 in /opt/anaconda3/lib/python3.11/site-packages (from spacy<3.8.0,>=3.7.2->en-core-web-sm==3.7.1) (3.0.9)\n",
            "Requirement already satisfied: thinc<8.3.0,>=8.2.2 in /opt/anaconda3/lib/python3.11/site-packages (from spacy<3.8.0,>=3.7.2->en-core-web-sm==3.7.1) (8.2.5)\n",
            "Requirement already satisfied: wasabi<1.2.0,>=0.9.1 in /opt/anaconda3/lib/python3.11/site-packages (from spacy<3.8.0,>=3.7.2->en-core-web-sm==3.7.1) (1.1.3)\n",
            "Requirement already satisfied: srsly<3.0.0,>=2.4.3 in /opt/anaconda3/lib/python3.11/site-packages (from spacy<3.8.0,>=3.7.2->en-core-web-sm==3.7.1) (2.4.8)\n",
            "Requirement already satisfied: catalogue<2.1.0,>=2.0.6 in /opt/anaconda3/lib/python3.11/site-packages (from spacy<3.8.0,>=3.7.2->en-core-web-sm==3.7.1) (2.0.10)\n",
            "Requirement already satisfied: weasel<0.5.0,>=0.1.0 in /opt/anaconda3/lib/python3.11/site-packages (from spacy<3.8.0,>=3.7.2->en-core-web-sm==3.7.1) (0.4.1)\n",
            "Requirement already satisfied: typer<1.0.0,>=0.3.0 in /opt/anaconda3/lib/python3.11/site-packages (from spacy<3.8.0,>=3.7.2->en-core-web-sm==3.7.1) (0.12.3)\n",
            "Requirement already satisfied: tqdm<5.0.0,>=4.38.0 in /opt/anaconda3/lib/python3.11/site-packages (from spacy<3.8.0,>=3.7.2->en-core-web-sm==3.7.1) (4.65.0)\n",
            "Requirement already satisfied: requests<3.0.0,>=2.13.0 in /opt/anaconda3/lib/python3.11/site-packages (from spacy<3.8.0,>=3.7.2->en-core-web-sm==3.7.1) (2.31.0)\n",
            "Requirement already satisfied: pydantic!=1.8,!=1.8.1,<3.0.0,>=1.7.4 in /opt/anaconda3/lib/python3.11/site-packages (from spacy<3.8.0,>=3.7.2->en-core-web-sm==3.7.1) (1.10.12)\n",
            "Requirement already satisfied: jinja2 in /opt/anaconda3/lib/python3.11/site-packages (from spacy<3.8.0,>=3.7.2->en-core-web-sm==3.7.1) (3.1.3)\n",
            "Requirement already satisfied: setuptools in /opt/anaconda3/lib/python3.11/site-packages (from spacy<3.8.0,>=3.7.2->en-core-web-sm==3.7.1) (68.2.2)\n",
            "Requirement already satisfied: packaging>=20.0 in /opt/anaconda3/lib/python3.11/site-packages (from spacy<3.8.0,>=3.7.2->en-core-web-sm==3.7.1) (23.1)\n",
            "Requirement already satisfied: langcodes<4.0.0,>=3.2.0 in /opt/anaconda3/lib/python3.11/site-packages (from spacy<3.8.0,>=3.7.2->en-core-web-sm==3.7.1) (3.4.0)\n",
            "Requirement already satisfied: numpy>=1.19.0 in /opt/anaconda3/lib/python3.11/site-packages (from spacy<3.8.0,>=3.7.2->en-core-web-sm==3.7.1) (1.26.4)\n",
            "Requirement already satisfied: language-data>=1.2 in /opt/anaconda3/lib/python3.11/site-packages (from langcodes<4.0.0,>=3.2.0->spacy<3.8.0,>=3.7.2->en-core-web-sm==3.7.1) (1.2.0)\n",
            "Requirement already satisfied: typing-extensions>=4.2.0 in /opt/anaconda3/lib/python3.11/site-packages (from pydantic!=1.8,!=1.8.1,<3.0.0,>=1.7.4->spacy<3.8.0,>=3.7.2->en-core-web-sm==3.7.1) (4.9.0)\n",
            "Requirement already satisfied: charset-normalizer<4,>=2 in /opt/anaconda3/lib/python3.11/site-packages (from requests<3.0.0,>=2.13.0->spacy<3.8.0,>=3.7.2->en-core-web-sm==3.7.1) (2.0.4)\n",
            "Requirement already satisfied: idna<4,>=2.5 in /opt/anaconda3/lib/python3.11/site-packages (from requests<3.0.0,>=2.13.0->spacy<3.8.0,>=3.7.2->en-core-web-sm==3.7.1) (2.10)\n",
            "Requirement already satisfied: urllib3<3,>=1.21.1 in /opt/anaconda3/lib/python3.11/site-packages (from requests<3.0.0,>=2.13.0->spacy<3.8.0,>=3.7.2->en-core-web-sm==3.7.1) (2.0.7)\n",
            "Requirement already satisfied: certifi>=2017.4.17 in /opt/anaconda3/lib/python3.11/site-packages (from requests<3.0.0,>=2.13.0->spacy<3.8.0,>=3.7.2->en-core-web-sm==3.7.1) (2024.6.2)\n",
            "Requirement already satisfied: blis<0.8.0,>=0.7.8 in /opt/anaconda3/lib/python3.11/site-packages (from thinc<8.3.0,>=8.2.2->spacy<3.8.0,>=3.7.2->en-core-web-sm==3.7.1) (0.7.11)\n",
            "Requirement already satisfied: confection<1.0.0,>=0.0.1 in /opt/anaconda3/lib/python3.11/site-packages (from thinc<8.3.0,>=8.2.2->spacy<3.8.0,>=3.7.2->en-core-web-sm==3.7.1) (0.1.5)\n",
            "Requirement already satisfied: click>=8.0.0 in /opt/anaconda3/lib/python3.11/site-packages (from typer<1.0.0,>=0.3.0->spacy<3.8.0,>=3.7.2->en-core-web-sm==3.7.1) (8.1.7)\n",
            "Requirement already satisfied: shellingham>=1.3.0 in /opt/anaconda3/lib/python3.11/site-packages (from typer<1.0.0,>=0.3.0->spacy<3.8.0,>=3.7.2->en-core-web-sm==3.7.1) (1.5.4)\n",
            "Requirement already satisfied: rich>=10.11.0 in /opt/anaconda3/lib/python3.11/site-packages (from typer<1.0.0,>=0.3.0->spacy<3.8.0,>=3.7.2->en-core-web-sm==3.7.1) (13.3.5)\n",
            "Requirement already satisfied: cloudpathlib<1.0.0,>=0.7.0 in /opt/anaconda3/lib/python3.11/site-packages (from weasel<0.5.0,>=0.1.0->spacy<3.8.0,>=3.7.2->en-core-web-sm==3.7.1) (0.18.1)\n",
            "Requirement already satisfied: smart-open<8.0.0,>=5.2.1 in /opt/anaconda3/lib/python3.11/site-packages (from weasel<0.5.0,>=0.1.0->spacy<3.8.0,>=3.7.2->en-core-web-sm==3.7.1) (5.2.1)\n",
            "Requirement already satisfied: MarkupSafe>=2.0 in /opt/anaconda3/lib/python3.11/site-packages (from jinja2->spacy<3.8.0,>=3.7.2->en-core-web-sm==3.7.1) (2.1.3)\n",
            "Requirement already satisfied: marisa-trie>=0.7.7 in /opt/anaconda3/lib/python3.11/site-packages (from language-data>=1.2->langcodes<4.0.0,>=3.2.0->spacy<3.8.0,>=3.7.2->en-core-web-sm==3.7.1) (1.2.0)\n",
            "Requirement already satisfied: markdown-it-py<3.0.0,>=2.2.0 in /opt/anaconda3/lib/python3.11/site-packages (from rich>=10.11.0->typer<1.0.0,>=0.3.0->spacy<3.8.0,>=3.7.2->en-core-web-sm==3.7.1) (2.2.0)\n",
            "Requirement already satisfied: pygments<3.0.0,>=2.13.0 in /opt/anaconda3/lib/python3.11/site-packages (from rich>=10.11.0->typer<1.0.0,>=0.3.0->spacy<3.8.0,>=3.7.2->en-core-web-sm==3.7.1) (2.15.1)\n",
            "Requirement already satisfied: mdurl~=0.1 in /opt/anaconda3/lib/python3.11/site-packages (from markdown-it-py<3.0.0,>=2.2.0->rich>=10.11.0->typer<1.0.0,>=0.3.0->spacy<3.8.0,>=3.7.2->en-core-web-sm==3.7.1) (0.1.0)\n",
            "\u001b[38;5;2m✔ Download and installation successful\u001b[0m\n",
            "You can now load the package via spacy.load('en_core_web_sm')\n"
          ]
        }
      ],
      "source": [
        "!python -m spacy download en_core_web_sm"
      ]
    },
    {
      "cell_type": "code",
      "execution_count": 9,
      "metadata": {
        "id": "5DLbWZWfWNDB"
      },
      "outputs": [],
      "source": [
        "# drive.mount('/content/drive')\n",
        "# os.chdir(\"/content/drive/My Drive\")\n",
        "# os.getcwd()\n",
        "# os.listdir()\n",
        "# data_path = 'DA_Final_Project/train.csv'\n",
        "# # test_data_path = 'DA_Final_Project/test.csv'\n",
        "\n",
        "# df = pd.read_csv(data_path)\n",
        "# # df_test = pd.read_csv(test_data_path)"
      ]
    },
    {
      "cell_type": "code",
      "execution_count": 10,
      "metadata": {
        "id": "VsWGrp-2bQwm"
      },
      "outputs": [],
      "source": [
        "# df.shape"
      ]
    },
    {
      "cell_type": "code",
      "execution_count": 11,
      "metadata": {
        "colab": {
          "base_uri": "https://localhost:8080/"
        },
        "id": "ksj6UP4HCuU8",
        "outputId": "c16b4dcb-d127-489e-d68a-f81f274d67ee"
      },
      "outputs": [
        {
          "name": "stderr",
          "output_type": "stream",
          "text": [
            "[nltk_data] Downloading package punkt to /Users/morsy/nltk_data...\n",
            "[nltk_data]   Package punkt is already up-to-date!\n"
          ]
        }
      ],
      "source": [
        "# Download necessary NLTK data\n",
        "nltk.download('punkt')\n",
        "\n",
        "# Load spaCy model\n",
        "nlp = spacy.load(\"en_core_web_sm\")"
      ]
    },
    {
      "cell_type": "code",
      "execution_count": 12,
      "metadata": {
        "id": "1iYpyHE9DaIB"
      },
      "outputs": [],
      "source": [
        "# loading data\n",
        "# df = pd.read_csv(\"/content/data/train.csv\")\n",
        "# test = pd.read_csv(\"/content/data/test.csv\")\n",
        "# sample = pd.read_csv(\"/content/data/sample_submission.csv\")\n",
        "\n",
        "# df = pd.read_csv(\"./Data/train.csv\")\n",
        "# test = pd.read_csv(\"./Data/test.csv\")\n",
        "\n",
        "df = pd.read_csv(\"./train.csv\")\n",
        "test = pd.read_csv(\"./test.csv\")\n"
      ]
    },
    {
      "cell_type": "code",
      "execution_count": 13,
      "metadata": {
        "id": "JXPCAa8JCaGh"
      },
      "outputs": [],
      "source": [
        "resp_a = 'The question of whether it is morally right to aim for a certain percentage of females in managerial positions is a complex ethical issue that involves considerations of fairness, equality, diversity, and discrimination.\\n\\nHere are some arguments in favor of and against such policies:\\n\\n**Arguments in favor:**\\n\\n1. **Correcting Historical Inequities:** Women have historically been underrepresented in leadership roles due to various cultural, institutional, and social barriers. Aiming for a specific percentage can be seen as a corrective measure to address past and ongoing discrimination.\\n\\n2. **Promoting Diversity:** Diverse leadership teams can enhance decision-making and represent a broader range of perspectives. This can lead to better outcomes for organizations and society as a whole.\\n\\n3. **Equality of Opportunity:** Setting targets for female representation in management can help ensure that women have equal opportunities to advance in their careers.\\n\\n4. **Role Modeling:** Increased visibility of female leaders can inspire and encourage other women and girls to pursue leadership roles.\\n\\n**Arguments against:**\\n\\n1. **Reverse Discrimination:** Setting a quota for female representation might lead to the perception or reality of reverse discrimination, where men might be overlooked for positions despite being qualified, simply to meet the gender target.\\n\\n2. **Meritocracy Concerns:** Critics argue that employment and promotion should be based solely on merit and qualifications, not gender. They fear that quotas could compromise the quality of leadership if less qualified individuals are promoted to meet gender targets.\\n\\n3. **Tokenism:** There is a risk that women appointed to meet quotas might be seen as \"tokens,\" undermining their legitimacy and potentially leading to resentment among colleagues.\\n\\n4. **Oversimplification of Diversity:** Focusing only on gender might overlook other important aspects of diversity, such as race, ethnicity, socioeconomic background, or sexual orientation.\\n\\nUltimately, the morality of aiming for a certain percentage of females in managerial positions depends on one\\'s ethical framework and the context in which such policies are implemented. Proponents of gender diversity targets often argue that these measures are necessary as a transitional mechanism to create a level playing field, while opponents may argue for a \"color-blind\" or \"gender-blind\" approach to hiring and promotions.\\n\\nOrganizations and societies must carefully consider the implications of these strategies and strive to implement policies that promote fairness and equality while minimizing negative consequences. It is also important to address the root causes of gender inequality, such as unconscious bias, work-life balance challenges, and lack of supportive policies, to create an environment where everyone has the opportunity to succeed based on their capabilities and contributions.'"
      ]
    },
    {
      "cell_type": "code",
      "execution_count": 14,
      "metadata": {
        "id": "fgIrbeypCioA"
      },
      "outputs": [],
      "source": [
        "resp_b = \"As an AI, I don't have personal beliefs or opinions. However, I can tell you that the question of gender quotas in managerial positions is a complex one and positions can vary. Advocates argue that such measures can help correct historical imbalances, promote diversity, and may lead to better decision-making. Critics may argue that positions should be based purely on merit, and that quotas could potentially lead to tokenism or unqualified candidates being promoted. Morality can be subjective and differs from person to person based on their personal beliefs, cultural background, and values. It's a topic with valid arguments on both sides, and it's up to each individual or organization to decide what they believe is right.\""
      ]
    },
    {
      "cell_type": "code",
      "execution_count": 15,
      "metadata": {
        "colab": {
          "base_uri": "https://localhost:8080/"
        },
        "id": "ks9l2z7jCne5",
        "outputId": "7401a0a4-224c-4718-f628-3ef2166f3d78"
      },
      "outputs": [
        {
          "name": "stdout",
          "output_type": "stream",
          "text": [
            "Features from Model 1: {'polarity': 0.0593671679197995, 'grammar_errors': 179, 'sentiment': 0.49348370927318297, 'length': 516, 'readability': 38.08662937549724}\n",
            "Features from Model 2: {'polarity': 0.07272727272727272, 'grammar_errors': 62, 'sentiment': 0.41233766233766234, 'length': 134, 'readability': 52.803841807909606}\n"
          ]
        }
      ],
      "source": [
        "def extract_features(response):\n",
        "    features = {}\n",
        "\n",
        "    # Polarity (Negative and Positive Sentiment)\n",
        "    features['polarity'] = TextBlob(response).sentiment.polarity\n",
        "\n",
        "    # Grammar and Spelling\n",
        "    doc = nlp(response)\n",
        "    features['grammar_errors'] = sum(1 for token in doc if token.is_stop)\n",
        "\n",
        "    # Engagement (Sentiment Analysis)\n",
        "    features['sentiment'] = TextBlob(response).sentiment.subjectivity\n",
        "\n",
        "    # Length\n",
        "    features['length'] = len(word_tokenize(response))\n",
        "\n",
        "    # Clarity (Readability Score) - the higher the better - to 100\n",
        "    features['readability'] = Textatistic(response).flesch_score\n",
        "\n",
        "    return features\n",
        "\n",
        "# Extract features from both responses\n",
        "features_model_1 = extract_features(resp_a)\n",
        "features_model_2 = extract_features(resp_b)\n",
        "\n",
        "print(\"Features from Model 1:\", features_model_1)\n",
        "print(\"Features from Model 2:\", features_model_2)"
      ]
    },
    {
      "cell_type": "code",
      "execution_count": 16,
      "metadata": {
        "colab": {
          "base_uri": "https://localhost:8080/"
        },
        "id": "BisWANELDtA3",
        "outputId": "a9b563b8-08ba-45c1-f090-b98210d630be"
      },
      "outputs": [
        {
          "name": "stdout",
          "output_type": "stream",
          "text": [
            "3.7.5\n"
          ]
        }
      ],
      "source": [
        "print(spacy.__version__)"
      ]
    },
    {
      "cell_type": "markdown",
      "metadata": {
        "id": "Xr6XgwLjdxDJ"
      },
      "source": [
        "# Scores per row"
      ]
    },
    {
      "cell_type": "code",
      "execution_count": 17,
      "metadata": {
        "colab": {
          "base_uri": "https://localhost:8080/"
        },
        "id": "ZlF9-keWd2tv",
        "outputId": "5ae68c44-527e-4896-b812-ab498213866e"
      },
      "outputs": [
        {
          "data": {
            "text/plain": [
              "Index(['id', 'model_a', 'model_b', 'prompt', 'response_a', 'response_b',\n",
              "       'winner_model_a', 'winner_model_b', 'winner_tie'],\n",
              "      dtype='object')"
            ]
          },
          "execution_count": 17,
          "metadata": {},
          "output_type": "execute_result"
        }
      ],
      "source": [
        "df.columns"
      ]
    },
    {
      "cell_type": "markdown",
      "metadata": {
        "id": "d7kbup4dEO01"
      },
      "source": [
        "Threads in prompts"
      ]
    },
    {
      "cell_type": "code",
      "execution_count": 18,
      "metadata": {
        "colab": {
          "base_uri": "https://localhost:8080/"
        },
        "id": "KJkUKOs1nZfo",
        "outputId": "8074fa3f-a60a-43e9-ceb6-95ae4b9e6222"
      },
      "outputs": [
        {
          "data": {
            "text/plain": [
              "6"
            ]
          },
          "execution_count": 18,
          "metadata": {},
          "output_type": "execute_result"
        }
      ],
      "source": [
        "len(json.loads(df['prompt'][12])) # each prompt has a thread"
      ]
    },
    {
      "cell_type": "code",
      "execution_count": 19,
      "metadata": {
        "colab": {
          "base_uri": "https://localhost:8080/",
          "height": 105
        },
        "id": "iF5iYP-EqklO",
        "outputId": "597b7d6c-ff34-4fe3-e945-f7f3ac605c38"
      },
      "outputs": [
        {
          "data": {
            "text/plain": [
              "'[\"The question of whether it is morally right to aim for a certain percentage of females in managerial positions is a complex ethical issue that involves considerations of fairness, equality, diversity, and discrimination.\\\\n\\\\nHere are some arguments in favor of and against such policies:\\\\n\\\\n**Arguments in favor:**\\\\n\\\\n1. **Correcting Historical Inequities:** Women have historically been underrepresented in leadership roles due to various cultural, institutional, and social barriers. Aiming for a specific percentage can be seen as a corrective measure to address past and ongoing discrimination.\\\\n\\\\n2. **Promoting Diversity:** Diverse leadership teams can enhance decision-making and represent a broader range of perspectives. This can lead to better outcomes for organizations and society as a whole.\\\\n\\\\n3. **Equality of Opportunity:** Setting targets for female representation in management can help ensure that women have equal opportunities to advance in their careers.\\\\n\\\\n4. **Role Modeling:** Increased visibility of female leaders can inspire and encourage other women and girls to pursue leadership roles.\\\\n\\\\n**Arguments against:**\\\\n\\\\n1. **Reverse Discrimination:** Setting a quota for female representation might lead to the perception or reality of reverse discrimination, where men might be overlooked for positions despite being qualified, simply to meet the gender target.\\\\n\\\\n2. **Meritocracy Concerns:** Critics argue that employment and promotion should be based solely on merit and qualifications, not gender. They fear that quotas could compromise the quality of leadership if less qualified individuals are promoted to meet gender targets.\\\\n\\\\n3. **Tokenism:** There is a risk that women appointed to meet quotas might be seen as \\\\\"tokens,\\\\\" undermining their legitimacy and potentially leading to resentment among colleagues.\\\\n\\\\n4. **Oversimplification of Diversity:** Focusing only on gender might overlook other important aspects of diversity, such as race, ethnicity, socioeconomic background, or sexual orientation.\\\\n\\\\nUltimately, the morality of aiming for a certain percentage of females in managerial positions depends on one\\'s ethical framework and the context in which such policies are implemented. Proponents of gender diversity targets often argue that these measures are necessary as a transitional mechanism to create a level playing field, while opponents may argue for a \\\\\"color-blind\\\\\" or \\\\\"gender-blind\\\\\" approach to hiring and promotions.\\\\n\\\\nOrganizations and societies must carefully consider the implications of these strategies and strive to implement policies that promote fairness and equality while minimizing negative consequences. It is also important to address the root causes of gender inequality, such as unconscious bias, work-life balance challenges, and lack of supportive policies, to create an environment where everyone has the opportunity to succeed based on their capabilities and contributions.\",\"Ah, the age-old culinary conundrum that has divided nations and dinner tables: does pineapple belong on a pizza? The tropical twist of pineapple on pizza, known as Hawaiian pizza, is a hotly debated topic where taste buds battle and pizza purists protest.\\\\n\\\\nLet\\'s slice into the debate with a zest of fun:\\\\n\\\\n**Team Pineapple:** \\\\\"Absolutely, yes! Pineapple on pizza is like a beach party in your mouth. The sweet juiciness of pineapple chunks frolicking with savory ham or bacon creates a flavor wave that surfs across the cheesy ocean of deliciousness. It\\'s the Mardi Gras of pizzas, where sweet meets savory in a jubilant jamboree!\\\\\"\\\\n\\\\n**Team No-Pineapple:** \\\\\"No way, not in a million pizzas! Pineapple is a fruit that should be sunbathing on a tropical fruit platter, not freeloading on a sacred slice of pizza. The thought of warm, melty cheese conspiring with pineapple\\'s sugary mischief is enough to make Italian ancestors turn in their tomato patches. Keep the pineapple in the fruit salad where it belongs!\\\\\"\\\\n\\\\nAt the end of the day, whether pineapple belongs on pizza is a matter of personal taste. Some say it\\'s a match made in heaven, others say it\\'s a culinary crime. But let\\'s face it, in the world of pizza toppings, where you can find everything from anchovies to zucchini, there\\'s room for a little pineapple pizzazz. So, if your taste buds crave that sweet and tangy twist, go ahead and let your pineapple flag fly atop that glorious cheese-covered dough. Bon app\\\\u00e9tit, or as they say in pineapple paradise, \\\\\"Aloha-ppetite!\\\\\" \\\\ud83c\\\\udf4d\\\\ud83c\\\\udf55\"]'"
            ]
          },
          "execution_count": 19,
          "metadata": {},
          "output_type": "execute_result"
        }
      ],
      "source": [
        "df['response_a'][0]"
      ]
    },
    {
      "cell_type": "code",
      "execution_count": 20,
      "metadata": {
        "colab": {
          "base_uri": "https://localhost:8080/"
        },
        "id": "95lxAZfeHi1r",
        "outputId": "2ef36bfd-c474-4615-bb2b-3e332143b95e"
      },
      "outputs": [
        {
          "name": "stderr",
          "output_type": "stream",
          "text": [
            "[nltk_data] Downloading package punkt to /Users/morsy/nltk_data...\n",
            "[nltk_data]   Package punkt is already up-to-date!\n"
          ]
        }
      ],
      "source": [
        "### Separate and extract features\n",
        "\n",
        "import pandas as pd\n",
        "import json\n",
        "from textblob import TextBlob\n",
        "from nltk.tokenize import word_tokenize\n",
        "import nltk\n",
        "from textatistic import Textatistic\n",
        "import spacy\n",
        "\n",
        "nltk.download('punkt')\n",
        "nlp = spacy.load(\"en_core_web_sm\")\n",
        "\n",
        "# Define the extract_features function\n",
        "def extract_features(response):\n",
        "    features = {}\n",
        "\n",
        "    # Polarity (Negative and Positive Sentiment)\n",
        "    features['polarity'] = TextBlob(response).sentiment.polarity\n",
        "\n",
        "    # Grammar and Spelling (using stop words as a proxy for grammar complexity)\n",
        "    doc = nlp(response)\n",
        "    features['grammar_errors'] = sum(1 for token in doc if token.is_stop)\n",
        "\n",
        "    # Engagement (Sentiment Analysis)\n",
        "    features['sentiment'] = TextBlob(response).sentiment.subjectivity\n",
        "\n",
        "    # Length\n",
        "    features['length'] = len(word_tokenize(response))\n",
        "\n",
        "    # # Clarity (Readability Score) - the higher the better - to 100\n",
        "    # print(\"===============================================\")\n",
        "    # print(response)\n",
        "    # readability_scores = Textatistic(response).scores\n",
        "    # features['readability'] = readability_scores['flesch_score'] if 'flesch_score' in readability_scores else None\n",
        "\n",
        "    return features\n",
        "\n",
        "# Function to separate questions and responses\n",
        "def separate_records(row):\n",
        "    prompts = json.loads(row['prompt'])\n",
        "    responses_a = json.loads(row['response_a'])\n",
        "    responses_b = json.loads(row['response_b'])\n",
        "    records = []\n",
        "    for prompt, response_a, response_b in zip(prompts, responses_a, responses_b):\n",
        "        record = row.copy()\n",
        "        if record['prompt'] == \"\" or record['response_a'] == \"\" or record['response_b'] == \"\":\n",
        "          continue\n",
        "        if record['prompt'] == None or record['response_a'] == None or record['response_b'] == None:\n",
        "          continue\n",
        "        record['prompt'] = prompt\n",
        "        record['response_a'] = response_a\n",
        "        record['response_b'] = response_b\n",
        "        records.append(record)\n",
        "    return records"
      ]
    },
    {
      "cell_type": "code",
      "execution_count": 21,
      "metadata": {
        "colab": {
          "base_uri": "https://localhost:8080/"
        },
        "id": "_WTXIpCJgjUb",
        "outputId": "afa2f681-4b7a-4747-ca6d-0f9896ba4705"
      },
      "outputs": [],
      "source": [
        "# Apply the separation to each row\n",
        "expanded_records = []\n",
        "for idx, row in df.iterrows():\n",
        "    expanded_records.extend(separate_records(row))\n",
        "\n",
        "# Create a new DataFrame from the expanded records\n",
        "expanded_df = pd.DataFrame(expanded_records)\n",
        "\n",
        "\n",
        "\n",
        "# Initialize lists to hold the features for each response\n",
        "features_a_list = []\n",
        "features_b_list = []\n",
        "\n"
      ]
    },
    {
      "cell_type": "code",
      "execution_count": 22,
      "metadata": {
        "colab": {
          "base_uri": "https://localhost:8080/"
        },
        "id": "f6pRXXfhKox7",
        "outputId": "af6ecb0a-7120-4876-c723-b7c73956ddee"
      },
      "outputs": [
        {
          "name": "stdout",
          "output_type": "stream",
          "text": [
            "(71514, 9)\n",
            "(57477, 9)\n",
            "246\n",
            "0\n"
          ]
        }
      ],
      "source": [
        "print(expanded_df.shape)\n",
        "print(df.shape)\n",
        "print(expanded_df.isnull().sum().sum()) # it has some missing values\n",
        "print(df.isnull().sum().sum())"
      ]
    },
    {
      "cell_type": "code",
      "execution_count": 23,
      "metadata": {},
      "outputs": [],
      "source": [
        "expanded_df.columns\n",
        "expanded_df = expanded_df[expanded_df['winner_tie'] != 1]\n"
      ]
    },
    {
      "cell_type": "code",
      "execution_count": 25,
      "metadata": {},
      "outputs": [
        {
          "data": {
            "text/plain": [
              "0"
            ]
          },
          "execution_count": 25,
          "metadata": {},
          "output_type": "execute_result"
        }
      ],
      "source": [
        "expanded_df.winner_tie.sum()"
      ]
    },
    {
      "cell_type": "code",
      "execution_count": 26,
      "metadata": {
        "colab": {
          "base_uri": "https://localhost:8080/"
        },
        "id": "6GjBS8ADK447",
        "outputId": "29b22f1f-d29e-44b4-c48d-909180fac345"
      },
      "outputs": [
        {
          "data": {
            "text/plain": [
              "0"
            ]
          },
          "execution_count": 26,
          "metadata": {},
          "output_type": "execute_result"
        }
      ],
      "source": [
        "expanded_df = expanded_df.dropna()\n",
        "expanded_df.isnull().sum().sum()"
      ]
    },
    {
      "cell_type": "code",
      "execution_count": 27,
      "metadata": {
        "colab": {
          "base_uri": "https://localhost:8080/"
        },
        "id": "ArtBPDJ-KmgC",
        "outputId": "15b4a3dd-6ea5-454a-cb48-612b5d680b8f"
      },
      "outputs": [],
      "source": [
        "# Iterate through the expanded DataFrame and extract features for each response\n",
        "for index, row in expanded_df.iterrows():\n",
        "    # print(row['response_a'])\n",
        "    features_a = extract_features(row['response_a'])\n",
        "    features_b = extract_features(row['response_b'])\n",
        "    features_a_list.append(features_a)\n",
        "    features_b_list.append(features_b)\n"
      ]
    },
    {
      "cell_type": "code",
      "execution_count": 29,
      "metadata": {},
      "outputs": [
        {
          "name": "stdout",
          "output_type": "stream",
          "text": [
            "      id             model_a     model_b  \\\n",
            "0  30192  gpt-4-1106-preview  gpt-4-0613   \n",
            "1  30192  gpt-4-1106-preview  gpt-4-0613   \n",
            "2  53567           koala-13b  gpt-4-0613   \n",
            "3  53567           koala-13b  gpt-4-0613   \n",
            "4  53567           koala-13b  gpt-4-0613   \n",
            "\n",
            "                                              prompt  \\\n",
            "0  Is it morally right to try to have a certain p...   \n",
            "1  OK, does pineapple belong on a pizza? Relax an...   \n",
            "2  What is the difference between marriage licens...   \n",
            "3  How can I get both of them as quick as possibl...   \n",
            "4  What is the minimal time to get them? 1 day or...   \n",
            "\n",
            "                                          response_a  \\\n",
            "0  The question of whether it is morally right to...   \n",
            "1  Ah, the age-old culinary conundrum that has di...   \n",
            "2  A marriage license is a legal document that al...   \n",
            "3  If you want to get both a marriage license and...   \n",
            "4  The minimal time to get a marriage license and...   \n",
            "\n",
            "                                          response_b  winner_model_a  \\\n",
            "0  As an AI, I don't have personal beliefs or opi...               1   \n",
            "1  As an AI, I don't eat, so I don't have persona...               1   \n",
            "2  A marriage license and a marriage certificate ...               0   \n",
            "3  In California, here are the general steps to o...               0   \n",
            "4  The marriage license in California is issued i...               0   \n",
            "\n",
            "   winner_model_b  winner_tie  polarity_a  grammar_errors_a  sentiment_a  \\\n",
            "0               0           0    0.059367               179     0.493484   \n",
            "1               0           0    0.197292               125     0.513333   \n",
            "2               1           0    0.040693                67     0.326948   \n",
            "3               1           0    0.037778               123     0.366667   \n",
            "4               1           0    0.086574               106     0.320833   \n",
            "\n",
            "   length_a  polarity_b  grammar_errors_b  sentiment_b  length_b  winner  \n",
            "0       516    0.072727                62     0.412338       134       1  \n",
            "1       316    0.235417                52     0.633333       104       1  \n",
            "2       134    0.100255               100     0.308418       234       0  \n",
            "3       255    0.221429               110     0.434524       291       0  \n",
            "4       206    0.079583                71     0.372500       149       0  \n"
          ]
        }
      ],
      "source": [
        "\n",
        "# Convert lists of features to DataFrames\n",
        "features_a_df = pd.DataFrame(features_a_list)\n",
        "features_b_df = pd.DataFrame(features_b_list)\n",
        "\n",
        "# index fix \n",
        "expanded_df = expanded_df.reset_index(drop=True)  # Drop the old index if needed\n",
        "features_a_df = features_a_df.reset_index(drop=True)\n",
        "features_b_df = features_b_df.reset_index(drop=True)\n",
        "\n",
        "# Combine the original expanded DataFrame with the new features\n",
        "combined_df = pd.concat([expanded_df, features_a_df.add_suffix('_a'), features_b_df.add_suffix('_b')], axis=1)\n",
        "combined_df.to_csv('./Data/combined1.csv')\n",
        "# Create the target variable\n",
        "combined_df['winner'] = combined_df.apply(lambda row: 1 if row['winner_model_a'] == 1 else (0 if row['winner_model_b'] == 1 else -1), axis=1)\n",
        "\n",
        "# Drop rows where the winner is a tie\n",
        "combined_df = combined_df[combined_df['winner'] != -1]\n",
        "\n",
        "# Display the combined DataFrame\n",
        "print(combined_df.head())"
      ]
    },
    {
      "cell_type": "code",
      "execution_count": 30,
      "metadata": {
        "id": "LNc_LyAomV7A"
      },
      "outputs": [],
      "source": [
        "combined_df.to_csv('./Data/combined2.csv')"
      ]
    },
    {
      "cell_type": "code",
      "execution_count": 31,
      "metadata": {},
      "outputs": [
        {
          "data": {
            "text/plain": [
              "(49747, 18)"
            ]
          },
          "execution_count": 31,
          "metadata": {},
          "output_type": "execute_result"
        }
      ],
      "source": [
        "combined_df.shape"
      ]
    },
    {
      "cell_type": "code",
      "execution_count": 32,
      "metadata": {},
      "outputs": [
        {
          "data": {
            "text/plain": [
              "Index(['id', 'model_a', 'model_b', 'prompt', 'response_a', 'response_b',\n",
              "       'winner_model_a', 'winner_model_b', 'winner_tie', 'polarity_a',\n",
              "       'grammar_errors_a', 'sentiment_a', 'length_a', 'polarity_b',\n",
              "       'grammar_errors_b', 'sentiment_b', 'length_b', 'winner'],\n",
              "      dtype='object')"
            ]
          },
          "execution_count": 32,
          "metadata": {},
          "output_type": "execute_result"
        }
      ],
      "source": [
        "combined_df.columns"
      ]
    },
    {
      "cell_type": "code",
      "execution_count": 33,
      "metadata": {},
      "outputs": [
        {
          "data": {
            "text/plain": [
              "(49747, 9)"
            ]
          },
          "execution_count": 33,
          "metadata": {},
          "output_type": "execute_result"
        }
      ],
      "source": [
        "expanded_df.shape"
      ]
    },
    {
      "cell_type": "code",
      "execution_count": 34,
      "metadata": {},
      "outputs": [
        {
          "data": {
            "text/plain": [
              "array([0])"
            ]
          },
          "execution_count": 34,
          "metadata": {},
          "output_type": "execute_result"
        }
      ],
      "source": [
        "expanded_df['winner_tie'].unique()"
      ]
    },
    {
      "cell_type": "code",
      "execution_count": 35,
      "metadata": {},
      "outputs": [
        {
          "data": {
            "text/plain": [
              "0"
            ]
          },
          "execution_count": 35,
          "metadata": {},
          "output_type": "execute_result"
        }
      ],
      "source": [
        "expanded_df.isnull().sum().sum()"
      ]
    },
    {
      "cell_type": "code",
      "execution_count": 36,
      "metadata": {},
      "outputs": [
        {
          "data": {
            "text/plain": [
              "(49747, 18)"
            ]
          },
          "execution_count": 36,
          "metadata": {},
          "output_type": "execute_result"
        }
      ],
      "source": [
        "combined_df.shape"
      ]
    },
    {
      "cell_type": "code",
      "execution_count": 37,
      "metadata": {},
      "outputs": [
        {
          "data": {
            "text/plain": [
              "21592"
            ]
          },
          "execution_count": 37,
          "metadata": {},
          "output_type": "execute_result"
        }
      ],
      "source": [
        "71339 - 49747"
      ]
    },
    {
      "cell_type": "code",
      "execution_count": 38,
      "metadata": {},
      "outputs": [
        {
          "data": {
            "text/plain": [
              "Index(['id', 'model_a', 'model_b', 'prompt', 'response_a', 'response_b',\n",
              "       'winner_model_a', 'winner_model_b', 'winner_tie', 'polarity_a',\n",
              "       'grammar_errors_a', 'sentiment_a', 'length_a', 'polarity_b',\n",
              "       'grammar_errors_b', 'sentiment_b', 'length_b', 'winner'],\n",
              "      dtype='object')"
            ]
          },
          "execution_count": 38,
          "metadata": {},
          "output_type": "execute_result"
        }
      ],
      "source": [
        "combined_df.columns"
      ]
    }
  ],
  "metadata": {
    "colab": {
      "provenance": []
    },
    "kernelspec": {
      "display_name": "Python 3",
      "name": "python3"
    },
    "language_info": {
      "codemirror_mode": {
        "name": "ipython",
        "version": 3
      },
      "file_extension": ".py",
      "mimetype": "text/x-python",
      "name": "python",
      "nbconvert_exporter": "python",
      "pygments_lexer": "ipython3",
      "version": "3.11.9"
    }
  },
  "nbformat": 4,
  "nbformat_minor": 0
}
