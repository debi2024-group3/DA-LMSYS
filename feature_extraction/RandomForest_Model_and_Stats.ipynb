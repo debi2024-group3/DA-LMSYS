{
  "nbformat": 4,
  "nbformat_minor": 0,
  "metadata": {
    "colab": {
      "provenance": []
    },
    "kernelspec": {
      "name": "python3",
      "display_name": "Python 3"
    },
    "language_info": {
      "name": "python"
    }
  },
  "cells": [
    {
      "cell_type": "markdown",
      "source": [
        "## Data Reading"
      ],
      "metadata": {
        "id": "UXjCQpI9BqFv"
      }
    },
    {
      "cell_type": "markdown",
      "source": [
        "#### Loading data frame"
      ],
      "metadata": {
        "id": "JQu13N_gZd5o"
      }
    },
    {
      "cell_type": "code",
      "source": [
        "#### Downloading the combined dataframe that contains the newly extracted features\n",
        "!gdown --id 1zrctUoyepH5zksia21Cs6fYVZ1j1DAFU"
      ],
      "metadata": {
        "colab": {
          "base_uri": "https://localhost:8080/"
        },
        "id": "3U26DfgwkMaV",
        "outputId": "7ed9b752-e31b-45da-e717-17c5e6a5d2da"
      },
      "execution_count": 1,
      "outputs": [
        {
          "output_type": "stream",
          "name": "stdout",
          "text": [
            "/usr/local/lib/python3.10/dist-packages/gdown/__main__.py:132: FutureWarning: Option `--id` was deprecated in version 4.3.1 and will be removed in 5.0. You don't need to pass it anymore to use a file ID.\n",
            "  warnings.warn(\n",
            "Downloading...\n",
            "From (original): https://drive.google.com/uc?id=1zrctUoyepH5zksia21Cs6fYVZ1j1DAFU\n",
            "From (redirected): https://drive.google.com/uc?id=1zrctUoyepH5zksia21Cs6fYVZ1j1DAFU&confirm=t&uuid=9ebc70a5-b126-4197-9209-3b247f2c31dd\n",
            "To: /content/combined_df_colab.csv\n",
            "100% 132M/132M [00:02<00:00, 59.9MB/s]\n"
          ]
        }
      ]
    },
    {
      "cell_type": "markdown",
      "source": [
        "#### Import Libraries"
      ],
      "metadata": {
        "id": "jUZ0xOh6lvD-"
      }
    },
    {
      "cell_type": "code",
      "source": [
        "!pip install textatistic\n",
        "import os\n",
        "from google.colab import drive\n",
        "\n",
        "import pandas as pd\n",
        "\n",
        "import nltk\n",
        "from textblob import TextBlob\n",
        "from textatistic import Textatistic\n",
        "from nltk.tokenize import word_tokenize\n",
        "import spacy\n",
        "from scipy.stats import pearsonr\n",
        "\n",
        "import json\n",
        "\n",
        "\n",
        "from sklearn.model_selection import train_test_split\n",
        "from sklearn.ensemble import RandomForestClassifier\n",
        "from sklearn.metrics import classification_report"
      ],
      "metadata": {
        "colab": {
          "base_uri": "https://localhost:8080/"
        },
        "id": "_LbGrZvgXkgp",
        "outputId": "58d77419-fc5d-4813-c26a-b2c25d59da66"
      },
      "execution_count": 2,
      "outputs": [
        {
          "output_type": "stream",
          "name": "stdout",
          "text": [
            "Collecting textatistic\n",
            "  Downloading textatistic-0.0.1.tar.gz (29 kB)\n",
            "  Preparing metadata (setup.py) ... \u001b[?25l\u001b[?25hdone\n",
            "Collecting pyhyphen>=2.0.5 (from textatistic)\n",
            "  Downloading PyHyphen-4.0.4.tar.gz (40 kB)\n",
            "\u001b[2K     \u001b[90m━━━━━━━━━━━━━━━━━━━━━━━━━━━━━━━━━━━━━━━━\u001b[0m \u001b[32m40.5/40.5 kB\u001b[0m \u001b[31m861.1 kB/s\u001b[0m eta \u001b[36m0:00:00\u001b[0m\n",
            "\u001b[?25h  Preparing metadata (setup.py) ... \u001b[?25l\u001b[?25hdone\n",
            "Requirement already satisfied: wheel>=0.40.0 in /usr/local/lib/python3.10/dist-packages (from pyhyphen>=2.0.5->textatistic) (0.43.0)\n",
            "Requirement already satisfied: setuptools>=68.0 in /usr/local/lib/python3.10/dist-packages (from pyhyphen>=2.0.5->textatistic) (71.0.4)\n",
            "Collecting appdirs>=1.4.0 (from pyhyphen>=2.0.5->textatistic)\n",
            "  Downloading appdirs-1.4.4-py2.py3-none-any.whl.metadata (9.0 kB)\n",
            "Requirement already satisfied: requests>=2.25 in /usr/local/lib/python3.10/dist-packages (from pyhyphen>=2.0.5->textatistic) (2.31.0)\n",
            "Requirement already satisfied: charset-normalizer<4,>=2 in /usr/local/lib/python3.10/dist-packages (from requests>=2.25->pyhyphen>=2.0.5->textatistic) (3.3.2)\n",
            "Requirement already satisfied: idna<4,>=2.5 in /usr/local/lib/python3.10/dist-packages (from requests>=2.25->pyhyphen>=2.0.5->textatistic) (3.7)\n",
            "Requirement already satisfied: urllib3<3,>=1.21.1 in /usr/local/lib/python3.10/dist-packages (from requests>=2.25->pyhyphen>=2.0.5->textatistic) (2.0.7)\n",
            "Requirement already satisfied: certifi>=2017.4.17 in /usr/local/lib/python3.10/dist-packages (from requests>=2.25->pyhyphen>=2.0.5->textatistic) (2024.7.4)\n",
            "Downloading appdirs-1.4.4-py2.py3-none-any.whl (9.6 kB)\n",
            "Building wheels for collected packages: textatistic, pyhyphen\n",
            "  Building wheel for textatistic (setup.py) ... \u001b[?25l\u001b[?25hdone\n",
            "  Created wheel for textatistic: filename=textatistic-0.0.1-py3-none-any.whl size=29049 sha256=406184dd4287375f9fbd1350fe1a83f9437d6baec155c1047dab623b3ae4dde9\n",
            "  Stored in directory: /root/.cache/pip/wheels/6e/31/c3/df8af4aa9ec3f671b0e8bc3bfa642c75918f2479ca4050f5f4\n",
            "  Building wheel for pyhyphen (setup.py) ... \u001b[?25l\u001b[?25hdone\n",
            "  Created wheel for pyhyphen: filename=PyHyphen-4.0.4-cp37-abi3-linux_x86_64.whl size=65463 sha256=2a91197ff08365f5d4560c3f964287d26d19ee87c0515501a90ef27e99a73eda\n",
            "  Stored in directory: /root/.cache/pip/wheels/a0/39/c3/1b8e8428660809de72abc6f40f078bb04d7eb36f7d945e5933\n",
            "Successfully built textatistic pyhyphen\n",
            "Installing collected packages: appdirs, pyhyphen, textatistic\n",
            "Successfully installed appdirs-1.4.4 pyhyphen-4.0.4 textatistic-0.0.1\n"
          ]
        }
      ]
    },
    {
      "cell_type": "markdown",
      "source": [
        "#### Read and Explore Imported Data"
      ],
      "metadata": {
        "id": "0F4_TA3yn4ut"
      }
    },
    {
      "cell_type": "code",
      "source": [
        "combined_data_path = 'combined_df_colab.csv'\n",
        "\n",
        "combined_df = pd.read_csv(combined_data_path) # the one we work on now\n",
        "\n",
        "combined_df = combined_df.drop(columns=['Unnamed: 0'])"
      ],
      "metadata": {
        "id": "dKjUu3vTVHdY"
      },
      "execution_count": 3,
      "outputs": []
    },
    {
      "cell_type": "code",
      "source": [
        "combined_df.columns"
      ],
      "metadata": {
        "colab": {
          "base_uri": "https://localhost:8080/"
        },
        "id": "sykxoLmXYje4",
        "outputId": "e8d121fb-d19e-4e6b-97b4-affc2acee478"
      },
      "execution_count": 4,
      "outputs": [
        {
          "output_type": "execute_result",
          "data": {
            "text/plain": [
              "Index(['id', 'model_a', 'model_b', 'prompt', 'response_a', 'response_b',\n",
              "       'winner_model_a', 'winner_model_b', 'winner_tie', 'polarity_a',\n",
              "       'grammar_errors_a', 'sentiment_a', 'length_a', 'polarity_b',\n",
              "       'grammar_errors_b', 'sentiment_b', 'length_b', 'winner'],\n",
              "      dtype='object')"
            ]
          },
          "metadata": {},
          "execution_count": 4
        }
      ]
    },
    {
      "cell_type": "code",
      "source": [
        "combined_df.shape"
      ],
      "metadata": {
        "colab": {
          "base_uri": "https://localhost:8080/"
        },
        "id": "i-zn3nHaYLqb",
        "outputId": "57f590d4-02f4-49d7-8e97-b61cb1419b4e"
      },
      "execution_count": 5,
      "outputs": [
        {
          "output_type": "execute_result",
          "data": {
            "text/plain": [
              "(49747, 18)"
            ]
          },
          "metadata": {},
          "execution_count": 5
        }
      ]
    },
    {
      "cell_type": "code",
      "source": [
        "combined_df.columns"
      ],
      "metadata": {
        "colab": {
          "base_uri": "https://localhost:8080/"
        },
        "id": "sIuekA8OYRqx",
        "outputId": "03a385a7-78a1-4c27-b762-d9be275adaf2"
      },
      "execution_count": 6,
      "outputs": [
        {
          "output_type": "execute_result",
          "data": {
            "text/plain": [
              "Index(['id', 'model_a', 'model_b', 'prompt', 'response_a', 'response_b',\n",
              "       'winner_model_a', 'winner_model_b', 'winner_tie', 'polarity_a',\n",
              "       'grammar_errors_a', 'sentiment_a', 'length_a', 'polarity_b',\n",
              "       'grammar_errors_b', 'sentiment_b', 'length_b', 'winner'],\n",
              "      dtype='object')"
            ]
          },
          "metadata": {},
          "execution_count": 6
        }
      ]
    },
    {
      "cell_type": "code",
      "source": [
        "combined_df.head()"
      ],
      "metadata": {
        "colab": {
          "base_uri": "https://localhost:8080/",
          "height": 712
        },
        "id": "2ivHLaslYTIx",
        "outputId": "8835013f-3b5f-403c-f55f-d057ce3e21d8"
      },
      "execution_count": 7,
      "outputs": [
        {
          "output_type": "execute_result",
          "data": {
            "text/plain": [
              "      id             model_a     model_b  \\\n",
              "0  30192  gpt-4-1106-preview  gpt-4-0613   \n",
              "1  30192  gpt-4-1106-preview  gpt-4-0613   \n",
              "2  53567           koala-13b  gpt-4-0613   \n",
              "3  53567           koala-13b  gpt-4-0613   \n",
              "4  53567           koala-13b  gpt-4-0613   \n",
              "\n",
              "                                              prompt  \\\n",
              "0  Is it morally right to try to have a certain p...   \n",
              "1  OK, does pineapple belong on a pizza? Relax an...   \n",
              "2  What is the difference between marriage licens...   \n",
              "3  How can I get both of them as quick as possibl...   \n",
              "4  What is the minimal time to get them? 1 day or...   \n",
              "\n",
              "                                          response_a  \\\n",
              "0  The question of whether it is morally right to...   \n",
              "1  Ah, the age-old culinary conundrum that has di...   \n",
              "2  A marriage license is a legal document that al...   \n",
              "3  If you want to get both a marriage license and...   \n",
              "4  The minimal time to get a marriage license and...   \n",
              "\n",
              "                                          response_b  winner_model_a  \\\n",
              "0  As an AI, I don't have personal beliefs or opi...               1   \n",
              "1  As an AI, I don't eat, so I don't have persona...               1   \n",
              "2  A marriage license and a marriage certificate ...               0   \n",
              "3  In California, here are the general steps to o...               0   \n",
              "4  The marriage license in California is issued i...               0   \n",
              "\n",
              "   winner_model_b  winner_tie  polarity_a  grammar_errors_a  sentiment_a  \\\n",
              "0               0           0    0.059367               179     0.493484   \n",
              "1               0           0    0.197292               125     0.513333   \n",
              "2               1           0    0.040693                67     0.326948   \n",
              "3               1           0    0.037778               123     0.366667   \n",
              "4               1           0    0.086574               106     0.320833   \n",
              "\n",
              "   length_a  polarity_b  grammar_errors_b  sentiment_b  length_b  winner  \n",
              "0       516    0.072727                62     0.412338       134       1  \n",
              "1       316    0.235417                52     0.633333       104       1  \n",
              "2       134    0.100255               100     0.308418       234       0  \n",
              "3       255    0.221429               110     0.434524       291       0  \n",
              "4       206    0.079583                71     0.372500       149       0  "
            ],
            "text/html": [
              "\n",
              "  <div id=\"df-a9646491-36b1-4e90-be5d-b2e8d07591ca\" class=\"colab-df-container\">\n",
              "    <div>\n",
              "<style scoped>\n",
              "    .dataframe tbody tr th:only-of-type {\n",
              "        vertical-align: middle;\n",
              "    }\n",
              "\n",
              "    .dataframe tbody tr th {\n",
              "        vertical-align: top;\n",
              "    }\n",
              "\n",
              "    .dataframe thead th {\n",
              "        text-align: right;\n",
              "    }\n",
              "</style>\n",
              "<table border=\"1\" class=\"dataframe\">\n",
              "  <thead>\n",
              "    <tr style=\"text-align: right;\">\n",
              "      <th></th>\n",
              "      <th>id</th>\n",
              "      <th>model_a</th>\n",
              "      <th>model_b</th>\n",
              "      <th>prompt</th>\n",
              "      <th>response_a</th>\n",
              "      <th>response_b</th>\n",
              "      <th>winner_model_a</th>\n",
              "      <th>winner_model_b</th>\n",
              "      <th>winner_tie</th>\n",
              "      <th>polarity_a</th>\n",
              "      <th>grammar_errors_a</th>\n",
              "      <th>sentiment_a</th>\n",
              "      <th>length_a</th>\n",
              "      <th>polarity_b</th>\n",
              "      <th>grammar_errors_b</th>\n",
              "      <th>sentiment_b</th>\n",
              "      <th>length_b</th>\n",
              "      <th>winner</th>\n",
              "    </tr>\n",
              "  </thead>\n",
              "  <tbody>\n",
              "    <tr>\n",
              "      <th>0</th>\n",
              "      <td>30192</td>\n",
              "      <td>gpt-4-1106-preview</td>\n",
              "      <td>gpt-4-0613</td>\n",
              "      <td>Is it morally right to try to have a certain p...</td>\n",
              "      <td>The question of whether it is morally right to...</td>\n",
              "      <td>As an AI, I don't have personal beliefs or opi...</td>\n",
              "      <td>1</td>\n",
              "      <td>0</td>\n",
              "      <td>0</td>\n",
              "      <td>0.059367</td>\n",
              "      <td>179</td>\n",
              "      <td>0.493484</td>\n",
              "      <td>516</td>\n",
              "      <td>0.072727</td>\n",
              "      <td>62</td>\n",
              "      <td>0.412338</td>\n",
              "      <td>134</td>\n",
              "      <td>1</td>\n",
              "    </tr>\n",
              "    <tr>\n",
              "      <th>1</th>\n",
              "      <td>30192</td>\n",
              "      <td>gpt-4-1106-preview</td>\n",
              "      <td>gpt-4-0613</td>\n",
              "      <td>OK, does pineapple belong on a pizza? Relax an...</td>\n",
              "      <td>Ah, the age-old culinary conundrum that has di...</td>\n",
              "      <td>As an AI, I don't eat, so I don't have persona...</td>\n",
              "      <td>1</td>\n",
              "      <td>0</td>\n",
              "      <td>0</td>\n",
              "      <td>0.197292</td>\n",
              "      <td>125</td>\n",
              "      <td>0.513333</td>\n",
              "      <td>316</td>\n",
              "      <td>0.235417</td>\n",
              "      <td>52</td>\n",
              "      <td>0.633333</td>\n",
              "      <td>104</td>\n",
              "      <td>1</td>\n",
              "    </tr>\n",
              "    <tr>\n",
              "      <th>2</th>\n",
              "      <td>53567</td>\n",
              "      <td>koala-13b</td>\n",
              "      <td>gpt-4-0613</td>\n",
              "      <td>What is the difference between marriage licens...</td>\n",
              "      <td>A marriage license is a legal document that al...</td>\n",
              "      <td>A marriage license and a marriage certificate ...</td>\n",
              "      <td>0</td>\n",
              "      <td>1</td>\n",
              "      <td>0</td>\n",
              "      <td>0.040693</td>\n",
              "      <td>67</td>\n",
              "      <td>0.326948</td>\n",
              "      <td>134</td>\n",
              "      <td>0.100255</td>\n",
              "      <td>100</td>\n",
              "      <td>0.308418</td>\n",
              "      <td>234</td>\n",
              "      <td>0</td>\n",
              "    </tr>\n",
              "    <tr>\n",
              "      <th>3</th>\n",
              "      <td>53567</td>\n",
              "      <td>koala-13b</td>\n",
              "      <td>gpt-4-0613</td>\n",
              "      <td>How can I get both of them as quick as possibl...</td>\n",
              "      <td>If you want to get both a marriage license and...</td>\n",
              "      <td>In California, here are the general steps to o...</td>\n",
              "      <td>0</td>\n",
              "      <td>1</td>\n",
              "      <td>0</td>\n",
              "      <td>0.037778</td>\n",
              "      <td>123</td>\n",
              "      <td>0.366667</td>\n",
              "      <td>255</td>\n",
              "      <td>0.221429</td>\n",
              "      <td>110</td>\n",
              "      <td>0.434524</td>\n",
              "      <td>291</td>\n",
              "      <td>0</td>\n",
              "    </tr>\n",
              "    <tr>\n",
              "      <th>4</th>\n",
              "      <td>53567</td>\n",
              "      <td>koala-13b</td>\n",
              "      <td>gpt-4-0613</td>\n",
              "      <td>What is the minimal time to get them? 1 day or...</td>\n",
              "      <td>The minimal time to get a marriage license and...</td>\n",
              "      <td>The marriage license in California is issued i...</td>\n",
              "      <td>0</td>\n",
              "      <td>1</td>\n",
              "      <td>0</td>\n",
              "      <td>0.086574</td>\n",
              "      <td>106</td>\n",
              "      <td>0.320833</td>\n",
              "      <td>206</td>\n",
              "      <td>0.079583</td>\n",
              "      <td>71</td>\n",
              "      <td>0.372500</td>\n",
              "      <td>149</td>\n",
              "      <td>0</td>\n",
              "    </tr>\n",
              "  </tbody>\n",
              "</table>\n",
              "</div>\n",
              "    <div class=\"colab-df-buttons\">\n",
              "\n",
              "  <div class=\"colab-df-container\">\n",
              "    <button class=\"colab-df-convert\" onclick=\"convertToInteractive('df-a9646491-36b1-4e90-be5d-b2e8d07591ca')\"\n",
              "            title=\"Convert this dataframe to an interactive table.\"\n",
              "            style=\"display:none;\">\n",
              "\n",
              "  <svg xmlns=\"http://www.w3.org/2000/svg\" height=\"24px\" viewBox=\"0 -960 960 960\">\n",
              "    <path d=\"M120-120v-720h720v720H120Zm60-500h600v-160H180v160Zm220 220h160v-160H400v160Zm0 220h160v-160H400v160ZM180-400h160v-160H180v160Zm440 0h160v-160H620v160ZM180-180h160v-160H180v160Zm440 0h160v-160H620v160Z\"/>\n",
              "  </svg>\n",
              "    </button>\n",
              "\n",
              "  <style>\n",
              "    .colab-df-container {\n",
              "      display:flex;\n",
              "      gap: 12px;\n",
              "    }\n",
              "\n",
              "    .colab-df-convert {\n",
              "      background-color: #E8F0FE;\n",
              "      border: none;\n",
              "      border-radius: 50%;\n",
              "      cursor: pointer;\n",
              "      display: none;\n",
              "      fill: #1967D2;\n",
              "      height: 32px;\n",
              "      padding: 0 0 0 0;\n",
              "      width: 32px;\n",
              "    }\n",
              "\n",
              "    .colab-df-convert:hover {\n",
              "      background-color: #E2EBFA;\n",
              "      box-shadow: 0px 1px 2px rgba(60, 64, 67, 0.3), 0px 1px 3px 1px rgba(60, 64, 67, 0.15);\n",
              "      fill: #174EA6;\n",
              "    }\n",
              "\n",
              "    .colab-df-buttons div {\n",
              "      margin-bottom: 4px;\n",
              "    }\n",
              "\n",
              "    [theme=dark] .colab-df-convert {\n",
              "      background-color: #3B4455;\n",
              "      fill: #D2E3FC;\n",
              "    }\n",
              "\n",
              "    [theme=dark] .colab-df-convert:hover {\n",
              "      background-color: #434B5C;\n",
              "      box-shadow: 0px 1px 3px 1px rgba(0, 0, 0, 0.15);\n",
              "      filter: drop-shadow(0px 1px 2px rgba(0, 0, 0, 0.3));\n",
              "      fill: #FFFFFF;\n",
              "    }\n",
              "  </style>\n",
              "\n",
              "    <script>\n",
              "      const buttonEl =\n",
              "        document.querySelector('#df-a9646491-36b1-4e90-be5d-b2e8d07591ca button.colab-df-convert');\n",
              "      buttonEl.style.display =\n",
              "        google.colab.kernel.accessAllowed ? 'block' : 'none';\n",
              "\n",
              "      async function convertToInteractive(key) {\n",
              "        const element = document.querySelector('#df-a9646491-36b1-4e90-be5d-b2e8d07591ca');\n",
              "        const dataTable =\n",
              "          await google.colab.kernel.invokeFunction('convertToInteractive',\n",
              "                                                    [key], {});\n",
              "        if (!dataTable) return;\n",
              "\n",
              "        const docLinkHtml = 'Like what you see? Visit the ' +\n",
              "          '<a target=\"_blank\" href=https://colab.research.google.com/notebooks/data_table.ipynb>data table notebook</a>'\n",
              "          + ' to learn more about interactive tables.';\n",
              "        element.innerHTML = '';\n",
              "        dataTable['output_type'] = 'display_data';\n",
              "        await google.colab.output.renderOutput(dataTable, element);\n",
              "        const docLink = document.createElement('div');\n",
              "        docLink.innerHTML = docLinkHtml;\n",
              "        element.appendChild(docLink);\n",
              "      }\n",
              "    </script>\n",
              "  </div>\n",
              "\n",
              "\n",
              "<div id=\"df-3a2010c8-02f1-4f78-b894-452e5a2f0d02\">\n",
              "  <button class=\"colab-df-quickchart\" onclick=\"quickchart('df-3a2010c8-02f1-4f78-b894-452e5a2f0d02')\"\n",
              "            title=\"Suggest charts\"\n",
              "            style=\"display:none;\">\n",
              "\n",
              "<svg xmlns=\"http://www.w3.org/2000/svg\" height=\"24px\"viewBox=\"0 0 24 24\"\n",
              "     width=\"24px\">\n",
              "    <g>\n",
              "        <path d=\"M19 3H5c-1.1 0-2 .9-2 2v14c0 1.1.9 2 2 2h14c1.1 0 2-.9 2-2V5c0-1.1-.9-2-2-2zM9 17H7v-7h2v7zm4 0h-2V7h2v10zm4 0h-2v-4h2v4z\"/>\n",
              "    </g>\n",
              "</svg>\n",
              "  </button>\n",
              "\n",
              "<style>\n",
              "  .colab-df-quickchart {\n",
              "      --bg-color: #E8F0FE;\n",
              "      --fill-color: #1967D2;\n",
              "      --hover-bg-color: #E2EBFA;\n",
              "      --hover-fill-color: #174EA6;\n",
              "      --disabled-fill-color: #AAA;\n",
              "      --disabled-bg-color: #DDD;\n",
              "  }\n",
              "\n",
              "  [theme=dark] .colab-df-quickchart {\n",
              "      --bg-color: #3B4455;\n",
              "      --fill-color: #D2E3FC;\n",
              "      --hover-bg-color: #434B5C;\n",
              "      --hover-fill-color: #FFFFFF;\n",
              "      --disabled-bg-color: #3B4455;\n",
              "      --disabled-fill-color: #666;\n",
              "  }\n",
              "\n",
              "  .colab-df-quickchart {\n",
              "    background-color: var(--bg-color);\n",
              "    border: none;\n",
              "    border-radius: 50%;\n",
              "    cursor: pointer;\n",
              "    display: none;\n",
              "    fill: var(--fill-color);\n",
              "    height: 32px;\n",
              "    padding: 0;\n",
              "    width: 32px;\n",
              "  }\n",
              "\n",
              "  .colab-df-quickchart:hover {\n",
              "    background-color: var(--hover-bg-color);\n",
              "    box-shadow: 0 1px 2px rgba(60, 64, 67, 0.3), 0 1px 3px 1px rgba(60, 64, 67, 0.15);\n",
              "    fill: var(--button-hover-fill-color);\n",
              "  }\n",
              "\n",
              "  .colab-df-quickchart-complete:disabled,\n",
              "  .colab-df-quickchart-complete:disabled:hover {\n",
              "    background-color: var(--disabled-bg-color);\n",
              "    fill: var(--disabled-fill-color);\n",
              "    box-shadow: none;\n",
              "  }\n",
              "\n",
              "  .colab-df-spinner {\n",
              "    border: 2px solid var(--fill-color);\n",
              "    border-color: transparent;\n",
              "    border-bottom-color: var(--fill-color);\n",
              "    animation:\n",
              "      spin 1s steps(1) infinite;\n",
              "  }\n",
              "\n",
              "  @keyframes spin {\n",
              "    0% {\n",
              "      border-color: transparent;\n",
              "      border-bottom-color: var(--fill-color);\n",
              "      border-left-color: var(--fill-color);\n",
              "    }\n",
              "    20% {\n",
              "      border-color: transparent;\n",
              "      border-left-color: var(--fill-color);\n",
              "      border-top-color: var(--fill-color);\n",
              "    }\n",
              "    30% {\n",
              "      border-color: transparent;\n",
              "      border-left-color: var(--fill-color);\n",
              "      border-top-color: var(--fill-color);\n",
              "      border-right-color: var(--fill-color);\n",
              "    }\n",
              "    40% {\n",
              "      border-color: transparent;\n",
              "      border-right-color: var(--fill-color);\n",
              "      border-top-color: var(--fill-color);\n",
              "    }\n",
              "    60% {\n",
              "      border-color: transparent;\n",
              "      border-right-color: var(--fill-color);\n",
              "    }\n",
              "    80% {\n",
              "      border-color: transparent;\n",
              "      border-right-color: var(--fill-color);\n",
              "      border-bottom-color: var(--fill-color);\n",
              "    }\n",
              "    90% {\n",
              "      border-color: transparent;\n",
              "      border-bottom-color: var(--fill-color);\n",
              "    }\n",
              "  }\n",
              "</style>\n",
              "\n",
              "  <script>\n",
              "    async function quickchart(key) {\n",
              "      const quickchartButtonEl =\n",
              "        document.querySelector('#' + key + ' button');\n",
              "      quickchartButtonEl.disabled = true;  // To prevent multiple clicks.\n",
              "      quickchartButtonEl.classList.add('colab-df-spinner');\n",
              "      try {\n",
              "        const charts = await google.colab.kernel.invokeFunction(\n",
              "            'suggestCharts', [key], {});\n",
              "      } catch (error) {\n",
              "        console.error('Error during call to suggestCharts:', error);\n",
              "      }\n",
              "      quickchartButtonEl.classList.remove('colab-df-spinner');\n",
              "      quickchartButtonEl.classList.add('colab-df-quickchart-complete');\n",
              "    }\n",
              "    (() => {\n",
              "      let quickchartButtonEl =\n",
              "        document.querySelector('#df-3a2010c8-02f1-4f78-b894-452e5a2f0d02 button');\n",
              "      quickchartButtonEl.style.display =\n",
              "        google.colab.kernel.accessAllowed ? 'block' : 'none';\n",
              "    })();\n",
              "  </script>\n",
              "</div>\n",
              "\n",
              "    </div>\n",
              "  </div>\n"
            ],
            "application/vnd.google.colaboratory.intrinsic+json": {
              "type": "dataframe",
              "variable_name": "combined_df",
              "summary": "{\n  \"name\": \"combined_df\",\n  \"rows\": 49747,\n  \"fields\": [\n    {\n      \"column\": \"id\",\n      \"properties\": {\n        \"dtype\": \"number\",\n        \"std\": 1237283445,\n        \"min\": 30192,\n        \"max\": 4294947231,\n        \"num_unique_values\": 39709,\n        \"samples\": [\n          2439673505,\n          1400261150,\n          2753622191\n        ],\n        \"semantic_type\": \"\",\n        \"description\": \"\"\n      }\n    },\n    {\n      \"column\": \"model_a\",\n      \"properties\": {\n        \"dtype\": \"category\",\n        \"num_unique_values\": 64,\n        \"samples\": [\n          \"gpt4all-13b-snoozy\",\n          \"llama-13b\",\n          \"gpt-4-1106-preview\"\n        ],\n        \"semantic_type\": \"\",\n        \"description\": \"\"\n      }\n    },\n    {\n      \"column\": \"model_b\",\n      \"properties\": {\n        \"dtype\": \"category\",\n        \"num_unique_values\": 64,\n        \"samples\": [\n          \"gemini-pro\",\n          \"llama-13b\",\n          \"gpt-4-0613\"\n        ],\n        \"semantic_type\": \"\",\n        \"description\": \"\"\n      }\n    },\n    {\n      \"column\": \"prompt\",\n      \"properties\": {\n        \"dtype\": \"string\",\n        \"num_unique_values\": 46206,\n        \"samples\": [\n          \"How could you solve the tensile strength problem of building a ringworld for human habitation using orbital rings for support?\",\n          \"Can you help me draft en email in english.\\n\\nThe purpose is to ask recipients in my network to either be interviewed, or connect us to the most relevant person in their company to discuss cloud cost optimisation.\\nI am reaching out as I am a Subject Matter expert and Mentor for HEC students, and this is part of a  Startup launchpad program which aims to help them develop and launch their idea in less than 12 weeks.\\n\\nThis interviews is part of the early stage of customer painpoint assessment.\\nWe are keen to share the summary of our findings afterwards.\\n\\nWe are looking to interview CTOs, CFO as well as other relevant profiles (Practitioners)\",\n          \"What would be on the news\"\n        ],\n        \"semantic_type\": \"\",\n        \"description\": \"\"\n      }\n    },\n    {\n      \"column\": \"response_a\",\n      \"properties\": {\n        \"dtype\": \"string\",\n        \"num_unique_values\": 48927,\n        \"samples\": [\n          \"Let's denote the three-digit number as \\\\( ABC \\\\), where \\\\( A \\\\) is the first digit, \\\\( B \\\\) is the middle digit, and \\\\( C \\\\) is the last digit.\\n\\nFrom the given information, we have two conditions:\\n\\n1. The middle digit \\\\( B \\\\) is 4 times the last digit \\\\( C \\\\):\\n\\\\[ B = 4C \\\\]\\n\\n2. The first digit \\\\( A \\\\) is 3 less than the second digit \\\\( B \\\\):\\n\\\\[ A = B - 3 \\\\]\\n\\nSince \\\\( B \\\\) is the middle digit and it's larger than \\\\( A \\\\) (the first digit), we know that \\\\( B \\\\) must be at least 4 (the smallest possible value for \\\\( A \\\\) to be 1 less than \\\\( B \\\\)). However, if \\\\( B = 4 \\\\), then \\\\( C = 1 \\\\), which would make \\\\( A = 1 \\\\), and we cannot have the first digit be the same as the last digit in a three-digit number. Therefore, \\\\( B \\\\) must be at least 5.\\n\\nLet's try the smallest possible value for \\\\( B \\\\) greater than 4, which is 5:\\n\\nIf \\\\( B = 5 \\\\), then\\n\\\\[ C = \\\\frac{B}{4} = \\\\frac{5}{4} \\\\]\\nBut \\\\( C \\\\) must be an integer, so this case does not work.\\n\\nThe next possible value for \\\\( B \\\\) is 6:\\n\\\\[ C = \\\\frac{B}{4} = \\\\frac{6}{4} = 1.5 \\\\]\\nAgain, \\\\( C \\\\) must be an integer, so this case also does not work.\\n\\nThe smallest integer value for \\\\( B \\\\) that is 4 times \\\\( C \\\\) while maintaining \\\\( B \\\\geq 5 \\\\) and \\\\( C > 0 \\\\) is when \\\\( B = 8 \\\\) and \\\\( C = 2 \\\\). In this case:\\n\\\\[ A = B - 3 = 8 - 3 = 5 \\\\]\\n\\nSo the number is \\\\( 582 \\\\).\\n\\nTherefore, you are the number 582.\",\n          \"Silk, silk, silk, silk, silk.\",\n          \"To calculate the diameter of the electric cable, we first need to find the resistance per meter (R/m) and the cross-sectional area (S) of the cable. We are given the resistance of the cable as 0.5 \\u03a9 and the length of the cable as 400 m. The impedance of the cable is given as 0.015 \\u03a9/m, which can be converted to resistance per meter by dividing the impedance by the length of the cable:\\n\\n$$R/m = \\\\frac{0.015 \\\\, \\\\Omega}{400 \\\\, m} = 0.000375 \\\\, \\\\Omega/m$$\\n\\nNow, we can find the cross-sectional area of the cable using the formula:\\n\\n$$S = \\\\frac{R/m}{R}$$\\n\\nPlugging in the values, we get:\\n\\n$$S = \\\\frac{0.000375 \\\\, \\\\Omega/m}{0.5 \\\\, \\\\Omega} = 0.00075 \\\\, m^2/m$$\\n\\nThe diameter of the cable (d) can be calculated using the formula:\\n\\n$$d = \\\\sqrt{\\\\frac{4S}{\\\\pi}}$$\\n\\nPlugging in the cross-sectional area, we get:\\n\\n$$d = \\\\sqrt{\\\\frac{4 \\\\times 0.00075 \\\\, m^2/m}{\\\\pi}} \\\\approx 0.021 \\\\, m$$\\n\\nTo convert the diameter to centimeters, multiply by 10:\\n\\n$$d = 0.021 \\\\, m \\\\times 10 = 0.21 \\\\, cm$$\\n\\nSo, the correct answer is:\\n\\n**D) 2 cm**\"\n        ],\n        \"semantic_type\": \"\",\n        \"description\": \"\"\n      }\n    },\n    {\n      \"column\": \"response_b\",\n      \"properties\": {\n        \"dtype\": \"string\",\n        \"num_unique_values\": 48972,\n        \"samples\": [\n          \"Here is a recipe with the requested tags (banana, peas, vegetarian, delicious) and without strawberries:\\n\\nIngredients:\\n- 2 bananas, peeled and sliced\\n- 1 cup frozen peas \\n- 1/2 cup vegetable broth\\n- 2 tablespoons olive oil \\n- 1 onion, diced\\n- 3 cloves garlic, minced\\n- 1 teaspoon curry powder\\n- Salt and pepper to taste\\n\\n Instructions:\\n\\n1. Heat the olive oil in a saucepan over medium heat. Add the onion and garlic and saut\\u00e9 until the onion is translucent, about 5 minutes.\\n\\n2. Add the curry powder, salt and pepper and stir to coat the onions. Cook for 1 minute until fragrant. \\n\\n3. Add the vegetable broth and bring to a simmer. Add the bananas and peas and stir to combine. \\n\\n4. Reduce the heat to medium-low, cover and cook for about 5 minutes until the bananas and peas are warmed through. \\n\\n5. Remove from heat and stir well. Serve over rice or with naan bread. Enjoy your delicious vegetarian curry!\\n\\n6. Optional: garnish with cilantro, lime wedges, yogurt or toasted coconut flakes. \\n\\nThis curry dish hits all the requested tags: it contains bananas and peas, it is vegetarian and delicious without using any strawberries. Let me know if you have any other questions!\",\n          \"(Verse 1)\\nYou're browsing through a library, it's quiet, not a sound\\nBut you can sense a darkness lurking, something's going down\\nYou feel a tingle down your spine, a presence you can't shake\\nIt's Linda VerMooten, extremist, trying to ban your books\\n\\n(Chorus)\\nLinda VerMooten, extremist politician\\nLiving in the shadows, trying to ban your fiction\\nLinda VerMooten, her views are quite alarming\\nRumors swirling, she might be an actual cannibal\\n\\n(Verse 2)\\nYou find a book that you adore, but she swoops in with rage\\nClaiming it's all but pornographic, in her twisted, narrow gaze\\nThe library starts to tremble, as her anger fills the air\\nBut you can't let her take your freedom, you must stand your ground right there\\n\\n(Chorus)\\nLinda VerMooten, extremist politician\\nLiving in the shadows, trying to ban your fiction\\nLinda VerMooten, in a goofy hat she hides\\nFighting for her twisted cause, she's got darkness in her eyes\\n\\n(Bridge)\\nNow it's time for an election, the battle's just begun\\nYou rally all your friends and neighbors, determined not to run\\nYou spread the truth about her darkness, her beliefs so misaligned\\nThe day has come, the votes are counted, it's time to see the signs\\n\\n(Verse 3)\\nThe final battle, non-violent, as the tallies pour on in\\nYou watch as Linda VerMooten's chances start to wear thin\\nThe victory is yours, as her reign of fear comes to an end\\nThe town is safe, the books unharmed, and you've made a stand, my friend\\n\\n(Chorus)\\nLinda VerMooten, extremist politician\\nLiving in the shadows, trying to ban your fiction\\nLinda VerMooten, defeated and disgraced\\nThe town united, her darkness has been erased\\n\\n(Outro)\\nLinda VerMooten, extremist politician\\nThe legend of her fall will echo through the ages\\nLinda VerMooten, her story a reminder\\nThat in the end, love and truth will always win\",\n          \"Here is a draft email you can edit and send to a professor to apply for a research assistant position:\\n\\nDear Professor [last name], \\n\\nI am writing to express my strong interest in working with you as a research assistant. I am currently a [first year/sophomore/junior/senior] at [university name] majoring in [your major]. I have a strong academic background with a GPA of [GPA] and great passion for [professor's research area or your area of interest].\\n\\nI would welcome the opportunity to contribute to your research on [professor\\u2019s research topic] as a research assistant. Through assisting with study design, data collection and analysis, report writing, and other research activities, I hope to gain valuable hands-on research skills and deepen my knowledge in [research area]. My coursework and [projects/previous experience if any] have provided me with a solid foundation in research methods and working collaboratively as part of a research team that I am eager to apply as your research assistant.  \\n\\nI have attached my resume outlining my academic qualifications, relevant skills, and experience. I welcome the opportunity to speak in person about how I can effectively support your research endeavors. Please let me know if there will be any open research assistant positions in your lab in the coming semester. I look forward to hearing from you.\\n\\nThank you for your time and consideration.\\n\\nBest regards,\\n[Your full name]\\n\\nI've included details on expressing interest, highlighting relevant academics and experience, offering to contribute, and attaching a resume. Please edit to personalize with your specifics before sending to a professor. I'm happy to provide clarification or additional suggestions. Let me know if you have any other questions!\"\n        ],\n        \"semantic_type\": \"\",\n        \"description\": \"\"\n      }\n    },\n    {\n      \"column\": \"winner_model_a\",\n      \"properties\": {\n        \"dtype\": \"number\",\n        \"std\": 0,\n        \"min\": 0,\n        \"max\": 1,\n        \"num_unique_values\": 2,\n        \"samples\": [\n          0,\n          1\n        ],\n        \"semantic_type\": \"\",\n        \"description\": \"\"\n      }\n    },\n    {\n      \"column\": \"winner_model_b\",\n      \"properties\": {\n        \"dtype\": \"number\",\n        \"std\": 0,\n        \"min\": 0,\n        \"max\": 1,\n        \"num_unique_values\": 2,\n        \"samples\": [\n          1,\n          0\n        ],\n        \"semantic_type\": \"\",\n        \"description\": \"\"\n      }\n    },\n    {\n      \"column\": \"winner_tie\",\n      \"properties\": {\n        \"dtype\": \"number\",\n        \"std\": 0,\n        \"min\": 0,\n        \"max\": 0,\n        \"num_unique_values\": 1,\n        \"samples\": [\n          0\n        ],\n        \"semantic_type\": \"\",\n        \"description\": \"\"\n      }\n    },\n    {\n      \"column\": \"polarity_a\",\n      \"properties\": {\n        \"dtype\": \"number\",\n        \"std\": 0.16902052119140526,\n        \"min\": -1.0,\n        \"max\": 1.0,\n        \"num_unique_values\": 24561,\n        \"samples\": [\n          0.1134920634920635\n        ],\n        \"semantic_type\": \"\",\n        \"description\": \"\"\n      }\n    },\n    {\n      \"column\": \"grammar_errors_a\",\n      \"properties\": {\n        \"dtype\": \"number\",\n        \"std\": 62,\n        \"min\": 0,\n        \"max\": 687,\n        \"num_unique_values\": 409,\n        \"samples\": [\n          205\n        ],\n        \"semantic_type\": \"\",\n        \"description\": \"\"\n      }\n    },\n    {\n      \"column\": \"sentiment_a\",\n      \"properties\": {\n        \"dtype\": \"number\",\n        \"std\": 0.20004563288416832,\n        \"min\": 0.0,\n        \"max\": 1.0,\n        \"num_unique_values\": 27269,\n        \"samples\": [\n          0.5238095238095237\n        ],\n        \"semantic_type\": \"\",\n        \"description\": \"\"\n      }\n    },\n    {\n      \"column\": \"length_a\",\n      \"properties\": {\n        \"dtype\": \"number\",\n        \"std\": 165,\n        \"min\": 0,\n        \"max\": 1649,\n        \"num_unique_values\": 921,\n        \"samples\": [\n          461\n        ],\n        \"semantic_type\": \"\",\n        \"description\": \"\"\n      }\n    },\n    {\n      \"column\": \"polarity_b\",\n      \"properties\": {\n        \"dtype\": \"number\",\n        \"std\": 0.17017018763274466,\n        \"min\": -1.0,\n        \"max\": 1.0,\n        \"num_unique_values\": 24630,\n        \"samples\": [\n          0.1841836734693877\n        ],\n        \"semantic_type\": \"\",\n        \"description\": \"\"\n      }\n    },\n    {\n      \"column\": \"grammar_errors_b\",\n      \"properties\": {\n        \"dtype\": \"number\",\n        \"std\": 63,\n        \"min\": 0,\n        \"max\": 1149,\n        \"num_unique_values\": 410,\n        \"samples\": [\n          60\n        ],\n        \"semantic_type\": \"\",\n        \"description\": \"\"\n      }\n    },\n    {\n      \"column\": \"sentiment_b\",\n      \"properties\": {\n        \"dtype\": \"number\",\n        \"std\": 0.20117321882367395,\n        \"min\": 0.0,\n        \"max\": 1.0,\n        \"num_unique_values\": 27448,\n        \"samples\": [\n          0.3988095238095238\n        ],\n        \"semantic_type\": \"\",\n        \"description\": \"\"\n      }\n    },\n    {\n      \"column\": \"length_b\",\n      \"properties\": {\n        \"dtype\": \"number\",\n        \"std\": 170,\n        \"min\": 0,\n        \"max\": 8363,\n        \"num_unique_values\": 936,\n        \"samples\": [\n          262\n        ],\n        \"semantic_type\": \"\",\n        \"description\": \"\"\n      }\n    },\n    {\n      \"column\": \"winner\",\n      \"properties\": {\n        \"dtype\": \"number\",\n        \"std\": 0,\n        \"min\": 0,\n        \"max\": 1,\n        \"num_unique_values\": 2,\n        \"samples\": [\n          0\n        ],\n        \"semantic_type\": \"\",\n        \"description\": \"\"\n      }\n    }\n  ]\n}"
            }
          },
          "metadata": {},
          "execution_count": 7
        }
      ]
    },
    {
      "cell_type": "code",
      "source": [
        "combined_df['winner_tie'].value_counts()"
      ],
      "metadata": {
        "colab": {
          "base_uri": "https://localhost:8080/",
          "height": 147
        },
        "id": "zkSpjUByZwsG",
        "outputId": "08e54bea-edc2-489b-d845-1b48e53fa018"
      },
      "execution_count": 8,
      "outputs": [
        {
          "output_type": "execute_result",
          "data": {
            "text/plain": [
              "winner_tie\n",
              "0    49747\n",
              "Name: count, dtype: int64"
            ],
            "text/html": [
              "<table border=\"1\" class=\"dataframe\">\n",
              "  <thead>\n",
              "    <tr style=\"text-align: right;\">\n",
              "      <th></th>\n",
              "      <th>count</th>\n",
              "    </tr>\n",
              "    <tr>\n",
              "      <th>winner_tie</th>\n",
              "      <th></th>\n",
              "    </tr>\n",
              "  </thead>\n",
              "  <tbody>\n",
              "    <tr>\n",
              "      <th>0</th>\n",
              "      <td>49747</td>\n",
              "    </tr>\n",
              "  </tbody>\n",
              "</table><br><label><b>dtype:</b> int64</label>"
            ]
          },
          "metadata": {},
          "execution_count": 8
        }
      ]
    },
    {
      "cell_type": "code",
      "source": [
        "combined_df['winner_model_a'].value_counts() # model a wins 25117 and b 24630"
      ],
      "metadata": {
        "colab": {
          "base_uri": "https://localhost:8080/",
          "height": 178
        },
        "id": "blH6utV_aYYN",
        "outputId": "2b6717a2-b8f6-43f4-fa61-06815919649a"
      },
      "execution_count": 9,
      "outputs": [
        {
          "output_type": "execute_result",
          "data": {
            "text/plain": [
              "winner_model_a\n",
              "1    25117\n",
              "0    24630\n",
              "Name: count, dtype: int64"
            ],
            "text/html": [
              "<table border=\"1\" class=\"dataframe\">\n",
              "  <thead>\n",
              "    <tr style=\"text-align: right;\">\n",
              "      <th></th>\n",
              "      <th>count</th>\n",
              "    </tr>\n",
              "    <tr>\n",
              "      <th>winner_model_a</th>\n",
              "      <th></th>\n",
              "    </tr>\n",
              "  </thead>\n",
              "  <tbody>\n",
              "    <tr>\n",
              "      <th>1</th>\n",
              "      <td>25117</td>\n",
              "    </tr>\n",
              "    <tr>\n",
              "      <th>0</th>\n",
              "      <td>24630</td>\n",
              "    </tr>\n",
              "  </tbody>\n",
              "</table><br><label><b>dtype:</b> int64</label>"
            ]
          },
          "metadata": {},
          "execution_count": 9
        }
      ]
    },
    {
      "cell_type": "markdown",
      "source": [
        "## Data Analysis and Model"
      ],
      "metadata": {
        "id": "jdCO4oIhZkJH"
      }
    },
    {
      "cell_type": "markdown",
      "source": [
        "### Stats"
      ],
      "metadata": {
        "id": "56IsFPqhau7k"
      }
    },
    {
      "cell_type": "code",
      "source": [
        "# @title winner model_b vs polarity_b\n",
        "from matplotlib import pyplot as plt\n",
        "combined_df.plot(kind='scatter', x='winner_model_b', y='polarity_b', s=32, alpha=.8)\n",
        "plt.gca().spines[['top', 'right',]].set_visible(False)"
      ],
      "metadata": {
        "colab": {
          "base_uri": "https://localhost:8080/",
          "height": 450
        },
        "id": "tgvvhCE9Zl2k",
        "outputId": "a1b14593-53aa-408f-d3df-9d50384500b9",
        "cellView": "form"
      },
      "execution_count": 10,
      "outputs": [
        {
          "output_type": "display_data",
          "data": {
            "text/plain": [
              "<Figure size 640x480 with 1 Axes>"
            ],
            "image/png": "[encoded data removed]"
          },
          "metadata": {}
        }
      ]
    },
    {
      "cell_type": "code",
      "source": [
        "# @title winner model_a vs polarity_a\n",
        "from matplotlib import pyplot as plt\n",
        "combined_df.plot(kind='scatter', x='winner_model_a', y='polarity_a', s=32, alpha=.8)\n",
        "plt.gca().spines[['top', 'right',]].set_visible(False)"
      ],
      "metadata": {
        "colab": {
          "base_uri": "https://localhost:8080/",
          "height": 450
        },
        "id": "XsK7nBH-cD9p",
        "outputId": "8e74b69f-b92c-4067-9d57-b1cbf4881d62",
        "cellView": "form"
      },
      "execution_count": 11,
      "outputs": [
        {
          "output_type": "display_data",
          "data": {
            "text/plain": [
              "<Figure size 640x480 with 1 Axes>"
            ],
            "image/png": "[encoded data removed]"
          },
          "metadata": {}
        }
      ]
    },
    {
      "cell_type": "code",
      "source": [
        "# @title winner model_a vs length_a\n",
        "from matplotlib import pyplot as plt\n",
        "combined_df.plot(kind='scatter', x='winner_model_a', y='length_a', s=32, alpha=.8)\n",
        "plt.gca().spines[['top', 'right',]].set_visible(False)"
      ],
      "metadata": {
        "colab": {
          "base_uri": "https://localhost:8080/",
          "height": 450
        },
        "id": "gFvJ4jzqcKlJ",
        "outputId": "398d37fc-c527-431e-b1ce-0d4d11d32976"
      },
      "execution_count": 12,
      "outputs": [
        {
          "output_type": "display_data",
          "data": {
            "text/plain": [
              "<Figure size 640x480 with 1 Axes>"
            ],
            "image/png": "[encoded data removed]"
          },
          "metadata": {}
        }
      ]
    },
    {
      "cell_type": "code",
      "source": [
        "# @title winner model_b vs length_b\n",
        "from matplotlib import pyplot as plt\n",
        "combined_df.plot(kind='scatter', x='winner_model_b', y='length_b', s=32, alpha=.8)\n",
        "plt.gca().spines[['top', 'right',]].set_visible(False)"
      ],
      "metadata": {
        "colab": {
          "base_uri": "https://localhost:8080/",
          "height": 450
        },
        "id": "X8zwjILjcUnb",
        "outputId": "cb903438-9336-42f2-e720-0b9b538f2710"
      },
      "execution_count": 13,
      "outputs": [
        {
          "output_type": "display_data",
          "data": {
            "text/plain": [
              "<Figure size 640x480 with 1 Axes>"
            ],
            "image/png": "[encoded data removed]"
          },
          "metadata": {}
        }
      ]
    },
    {
      "cell_type": "code",
      "source": [
        "# @title Distribution of Sentiment Scores\n",
        "\n",
        "import matplotlib.pyplot as plt\n",
        "\n",
        "plt.hist(combined_df['sentiment_a'], alpha=0.5, label='Model A')\n",
        "plt.hist(combined_df['sentiment_b'], alpha=0.5, label='Model B')\n",
        "plt.xlabel('Sentiment Score')\n",
        "plt.ylabel('Frequency')\n",
        "plt.title('Distribution of Sentiment Scores')\n",
        "_ = plt.legend()\n"
      ],
      "metadata": {
        "colab": {
          "base_uri": "https://localhost:8080/",
          "height": 472
        },
        "id": "LSAeX02IbD71",
        "outputId": "8b06e7dc-ef7d-4178-cdb1-c0c06d326b9b"
      },
      "execution_count": 14,
      "outputs": [
        {
          "output_type": "display_data",
          "data": {
            "text/plain": [
              "<Figure size 640x480 with 1 Axes>"
            ],
            "image/png": "[encoded data removed]"
          },
          "metadata": {}
        }
      ]
    },
    {
      "cell_type": "code",
      "source": [
        "def calculate_correlation(data, binary_column, numerical_column):\n",
        "  corr, _ = pearsonr(data[binary_column], data[numerical_column])\n",
        "  return corr\n"
      ],
      "metadata": {
        "id": "jNxwVXYLbbyc"
      },
      "execution_count": 15,
      "outputs": []
    },
    {
      "cell_type": "code",
      "source": [
        "combined_df.columns"
      ],
      "metadata": {
        "colab": {
          "base_uri": "https://localhost:8080/"
        },
        "id": "OihucxH1P7CA",
        "outputId": "dd19c103-7523-47c2-a2a9-a746d10b9cdc"
      },
      "execution_count": 16,
      "outputs": [
        {
          "output_type": "execute_result",
          "data": {
            "text/plain": [
              "Index(['id', 'model_a', 'model_b', 'prompt', 'response_a', 'response_b',\n",
              "       'winner_model_a', 'winner_model_b', 'winner_tie', 'polarity_a',\n",
              "       'grammar_errors_a', 'sentiment_a', 'length_a', 'polarity_b',\n",
              "       'grammar_errors_b', 'sentiment_b', 'length_b', 'winner'],\n",
              "      dtype='object')"
            ]
          },
          "metadata": {},
          "execution_count": 16
        }
      ]
    },
    {
      "cell_type": "code",
      "source": [
        "print(calculate_correlation(combined_df, 'winner_model_a','polarity_a'))"
      ],
      "metadata": {
        "colab": {
          "base_uri": "https://localhost:8080/"
        },
        "id": "W1n9vcQwGbfB",
        "outputId": "4ff9e8c2-007a-42fb-dea1-ce33387da807"
      },
      "execution_count": 17,
      "outputs": [
        {
          "output_type": "stream",
          "name": "stdout",
          "text": [
            "0.010424344913318919\n"
          ]
        }
      ]
    },
    {
      "cell_type": "code",
      "source": [
        "print(calculate_correlation(combined_df, 'winner_model_b','polarity_b'))"
      ],
      "metadata": {
        "colab": {
          "base_uri": "https://localhost:8080/"
        },
        "id": "8VTVMWURQA2J",
        "outputId": "5d9a8297-f9c3-46b0-affc-609919fd1861"
      },
      "execution_count": 18,
      "outputs": [
        {
          "output_type": "stream",
          "name": "stdout",
          "text": [
            "0.0010189409441324127\n"
          ]
        }
      ]
    },
    {
      "cell_type": "code",
      "source": [
        "print(calculate_correlation(combined_df, 'winner_model_a','sentiment_a'))"
      ],
      "metadata": {
        "colab": {
          "base_uri": "https://localhost:8080/"
        },
        "id": "A64BpdU4QGou",
        "outputId": "864efe47-adbd-497f-dd1c-17471a9f77d4"
      },
      "execution_count": 19,
      "outputs": [
        {
          "output_type": "stream",
          "name": "stdout",
          "text": [
            "-0.011469135081666956\n"
          ]
        }
      ]
    },
    {
      "cell_type": "code",
      "source": [
        "print(calculate_correlation(combined_df, 'winner_model_b','sentiment_b'))"
      ],
      "metadata": {
        "colab": {
          "base_uri": "https://localhost:8080/"
        },
        "id": "UZlDRNxoQIqh",
        "outputId": "f5103f89-4caa-4f19-9d18-0db23cd98ef7"
      },
      "execution_count": 20,
      "outputs": [
        {
          "output_type": "stream",
          "name": "stdout",
          "text": [
            "-0.009783511723229886\n"
          ]
        }
      ]
    },
    {
      "cell_type": "code",
      "source": [
        "print(calculate_correlation(combined_df, 'winner_model_a','length_a'))"
      ],
      "metadata": {
        "colab": {
          "base_uri": "https://localhost:8080/"
        },
        "id": "012fi6M-QIiH",
        "outputId": "f5e8b756-f662-4151-e39b-34c51a261928"
      },
      "execution_count": 21,
      "outputs": [
        {
          "output_type": "stream",
          "name": "stdout",
          "text": [
            "0.12688128749407965\n"
          ]
        }
      ]
    },
    {
      "cell_type": "code",
      "source": [
        "print(calculate_correlation(combined_df, 'winner_model_b','length_b'))"
      ],
      "metadata": {
        "colab": {
          "base_uri": "https://localhost:8080/"
        },
        "id": "YVLduM51QJrg",
        "outputId": "78b82107-919d-4bbc-d406-b5e16c3330a3"
      },
      "execution_count": 22,
      "outputs": [
        {
          "output_type": "stream",
          "name": "stdout",
          "text": [
            "0.11147544435103357\n"
          ]
        }
      ]
    },
    {
      "cell_type": "code",
      "source": [
        "print(calculate_correlation(combined_df, 'winner_model_a','grammar_errors_a'))"
      ],
      "metadata": {
        "colab": {
          "base_uri": "https://localhost:8080/"
        },
        "id": "9_Eg_HoFQKCv",
        "outputId": "dad56f89-caa5-45f4-97bc-6864316b4c92"
      },
      "execution_count": 23,
      "outputs": [
        {
          "output_type": "stream",
          "name": "stdout",
          "text": [
            "0.11048519306818785\n"
          ]
        }
      ]
    },
    {
      "cell_type": "code",
      "source": [
        "print(calculate_correlation(combined_df, 'winner_model_b','grammar_errors_b'))"
      ],
      "metadata": {
        "colab": {
          "base_uri": "https://localhost:8080/"
        },
        "id": "RT99kd-kQKTt",
        "outputId": "f647b041-cf24-4289-e634-9b5dfe644233"
      },
      "execution_count": 24,
      "outputs": [
        {
          "output_type": "stream",
          "name": "stdout",
          "text": [
            "0.09670360956825835\n"
          ]
        }
      ]
    },
    {
      "cell_type": "code",
      "source": [],
      "metadata": {
        "id": "-cXfIGAW594y"
      },
      "execution_count": 24,
      "outputs": []
    },
    {
      "cell_type": "markdown",
      "source": [
        "### Model"
      ],
      "metadata": {
        "id": "gTSZxsar5-lp"
      }
    },
    {
      "cell_type": "code",
      "source": [
        "combined_df.columns"
      ],
      "metadata": {
        "colab": {
          "base_uri": "https://localhost:8080/"
        },
        "id": "kQgm8k_A59y_",
        "outputId": "b1abb247-4d97-4cc5-ff42-07c0a56cbeb4"
      },
      "execution_count": 25,
      "outputs": [
        {
          "output_type": "execute_result",
          "data": {
            "text/plain": [
              "Index(['id', 'model_a', 'model_b', 'prompt', 'response_a', 'response_b',\n",
              "       'winner_model_a', 'winner_model_b', 'winner_tie', 'polarity_a',\n",
              "       'grammar_errors_a', 'sentiment_a', 'length_a', 'polarity_b',\n",
              "       'grammar_errors_b', 'sentiment_b', 'length_b', 'winner'],\n",
              "      dtype='object')"
            ]
          },
          "metadata": {},
          "execution_count": 25
        }
      ]
    },
    {
      "cell_type": "code",
      "source": [
        "len(combined_df)"
      ],
      "metadata": {
        "colab": {
          "base_uri": "https://localhost:8080/"
        },
        "id": "iG8ttkuC8Q_k",
        "outputId": "9076ba31-5c0f-4443-ad55-4475cec9a3e4"
      },
      "execution_count": 26,
      "outputs": [
        {
          "output_type": "execute_result",
          "data": {
            "text/plain": [
              "49747"
            ]
          },
          "metadata": {},
          "execution_count": 26
        }
      ]
    },
    {
      "cell_type": "code",
      "source": [
        "combined_df = pd.read_csv(combined_data_path)"
      ],
      "metadata": {
        "id": "ct8uG6jBh_PB"
      },
      "execution_count": 27,
      "outputs": []
    },
    {
      "cell_type": "code",
      "source": [
        "# One-Hot-Encode data for the Random Forest to accept the model names data\n",
        "combined_df_encoded = pd.get_dummies(combined_df, columns=['model_a', 'model_b'])\n",
        "\n",
        "# # Define the feature columns\n",
        "# feature_columns = [col for col in combined_df.columns if col.endswith('_a') or col.endswith('_b') or 'model_' in col]\n",
        "non_feature_columns = ['id', 'prompt', 'response_a', 'response_b', 'winner_model_a', 'winner_model_b', 'winner_tie', 'winner']\n",
        "feature_columns = [col for col in combined_df_encoded.columns if col not in non_feature_columns]\n",
        "\n",
        "\n",
        "# Split the data into train and test sets\n",
        "X = combined_df_encoded[feature_columns]\n",
        "y = combined_df_encoded['winner']\n",
        "X_train, X_test, y_train, y_test = train_test_split(X, y, test_size=0.20, random_state=42)\n",
        "\n",
        "# Train a RandomForestClassifier\n",
        "model = RandomForestClassifier(n_estimators=100, random_state=42)\n",
        "model.fit(X_train, y_train)\n",
        "\n",
        "# Predict on the test set\n",
        "y_pred = model.predict(X_test)\n",
        "\n",
        "# Print classification report\n",
        "print(classification_report(y_test, y_pred))\n"
      ],
      "metadata": {
        "colab": {
          "base_uri": "https://localhost:8080/"
        },
        "id": "4MWILd4g9RVd",
        "outputId": "d1b30ff9-6824-48ee-e3ac-e8a1c4cb1418"
      },
      "execution_count": 28,
      "outputs": [
        {
          "output_type": "stream",
          "name": "stdout",
          "text": [
            "              precision    recall  f1-score   support\n",
            "\n",
            "           0       0.67      0.67      0.67      4994\n",
            "           1       0.67      0.66      0.67      4956\n",
            "\n",
            "    accuracy                           0.67      9950\n",
            "   macro avg       0.67      0.67      0.67      9950\n",
            "weighted avg       0.67      0.67      0.67      9950\n",
            "\n"
          ]
        }
      ]
    }
  ]
}